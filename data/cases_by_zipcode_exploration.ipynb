{
  "cells": [
    {
      "cell_type": "code",
      "source": [
        "#pip install folium\n",
        "import requests\n",
        "import pandas as pd\n",
        "import folium\n"
      ],
      "outputs": [],
      "execution_count": 5,
      "metadata": {
        "collapsed": true,
        "jupyter": {
          "source_hidden": false,
          "outputs_hidden": false
        },
        "nteract": {
          "transient": {
            "deleting": false
          }
        },
        "execution": {
          "iopub.status.busy": "2021-01-07T12:54:37.661Z",
          "iopub.execute_input": "2021-01-07T12:54:37.698Z",
          "iopub.status.idle": "2021-01-07T12:54:41.026Z",
          "shell.execute_reply": "2021-01-07T12:54:41.482Z"
        }
      }
    },
    {
      "cell_type": "code",
      "source": [
        "zipcodes = [19701, 19702, 19703, 19706, 19707, 19708, 19709, 19710, 19711, 19712, 19713, 19714, 19715, 19716, 19717, 19718, 19720, 19721, 19725, 19726, 19730, 19731, 19732, 19733, 19734, 19735, 19736, 19801, 19802, 19803, 19804, 19805, 19806, 19807, 19808, 19809, 19810, 19850, 19880, 19884, 19885, 19886, 19887, 19889, 19890, 19891, 19892, 19893, 19894, 19895, 19896, 19897, 19898, 19899, 19901, 19902,19903, 19904, 19905, 19906,19930, 19931, 19933, 19934, 19936, 19938, 19939, 19940, 19941, 19943, 19944, 19945, 19946, 19947, 19950, 19951, 19952, 19953, 19954, 19955, 19956, 19958, 19960, 19961, 19962, 19963, 19964, 19966, 19967, 19968, 19969, 19970, 19971, 19973, 19975, 19977, 19979, 19980]\n"
      ],
      "outputs": [],
      "execution_count": 6,
      "metadata": {
        "collapsed": true,
        "jupyter": {
          "source_hidden": false,
          "outputs_hidden": false
        },
        "nteract": {
          "transient": {
            "deleting": false
          }
        },
        "execution": {
          "iopub.status.busy": "2021-01-07T12:54:41.096Z",
          "iopub.execute_input": "2021-01-07T12:54:41.134Z",
          "iopub.status.idle": "2021-01-07T12:54:41.274Z",
          "shell.execute_reply": "2021-01-07T12:54:41.508Z"
        }
      }
    },
    {
      "cell_type": "code",
      "source": [
        "\n",
        "li=[]\n",
        "no_data_to_show = []\n",
        "for zipcode in zipcodes:\n",
        "  url = 'https://myhealthycommunity.dhss.delaware.gov/locations/zip-code-'+str(zipcode)+'/download_covid_19_data/cases'\n",
        "  try:\n",
        "      df = pd.read_csv(url)\n",
        "      li.append(df)\n",
        "      \n",
        "  except pd.errors.ParserError:\n",
        "      no_data_to_show.append(zipcode)\n",
        "  \n",
        "  df = pd.concat(li, axis=0, ignore_index=True)"
      ],
      "outputs": [],
      "execution_count": 76,
      "metadata": {
        "collapsed": true,
        "jupyter": {
          "source_hidden": false,
          "outputs_hidden": false
        },
        "nteract": {
          "transient": {
            "deleting": false
          }
        },
        "execution": {
          "iopub.status.busy": "2021-01-08T20:25:40.795Z",
          "iopub.execute_input": "2021-01-08T20:25:40.820Z",
          "iopub.status.idle": "2021-01-08T20:26:45.214Z",
          "shell.execute_reply": "2021-01-08T20:26:45.351Z"
        }
      }
    },
    {
      "cell_type": "code",
      "source": [
        "df.info()"
      ],
      "outputs": [
        {
          "output_type": "stream",
          "name": "stdout",
          "text": [
            "<class 'pandas.core.frame.DataFrame'>\n",
            "RangeIndex: 13651 entries, 0 to 13650\n",
            "Data columns (total 10 columns):\n",
            " #   Column        Non-Null Count  Dtype  \n",
            "---  ------        --------------  -----  \n",
            " 0   Location      13651 non-null  object \n",
            " 1   County        13651 non-null  object \n",
            " 2   Statistic     13651 non-null  object \n",
            " 3   Value         13651 non-null  float64\n",
            " 4   Year          13651 non-null  object \n",
            " 5   Month         13651 non-null  object \n",
            " 6   Day           13651 non-null  object \n",
            " 7   Date used     13651 non-null  object \n",
            " 8   Unit          13651 non-null  object \n",
            " 9   Age adjusted  13651 non-null  object \n",
            "dtypes: float64(1), object(9)\n",
            "memory usage: 1.0+ MB\n"
          ]
        }
      ],
      "execution_count": 78,
      "metadata": {
        "collapsed": true,
        "jupyter": {
          "source_hidden": false,
          "outputs_hidden": false
        },
        "nteract": {
          "transient": {
            "deleting": false
          }
        },
        "execution": {
          "iopub.status.busy": "2021-01-08T20:41:07.126Z",
          "iopub.execute_input": "2021-01-08T20:41:07.146Z",
          "shell.execute_reply": "2021-01-08T20:41:07.274Z",
          "iopub.status.idle": "2021-01-08T20:41:07.224Z"
        }
      }
    },
    {
      "cell_type": "code",
      "source": [
        "#zipcode populations\n",
        "\n",
        "zip_pop ={19720:59664, 19702:55537, 19711:52547, 19709:42480, 19701:40173, 19808:38657, 19805:38457, 19904:37467, 19901:37182, 19713:30260, 19966:29324, 19958:26235, 19810:25978, 19802:25715, 19977:25670, 19973:24745, 19803:21867, 19963:20743, 19947:19992, 19804:17511, 19801:17035, 19707:15821, 19703:15362, 19809:15139, 19956:15117, 19934:13748, 19971:13739, 19734:13115, 19943:12887, 19962:11710, 19968:11659, 19933:10903, 19952:10094, 19806:9887, 19975:9661, 19938:8856, 19970:8505, 19807:7515, 19950:7453, 19939:7399, 19945:6771, 19960:6505, 19940:5575, 19946:5294, 19953:4545, 19717:3868, 19941:3270, 19930:2300, 19951:2103, 19706:1803, 19954:1523, 19716:1429, 19967:1246, 21912:1139, 19964:1136, 19730:1100, 19979:719, 19944:697, 19731:322, 19936:319, 19931:309, 19902:300, 19733:89, 19732:88, 19736:66, 19955:53, 19735:9}"
      ],
      "outputs": [],
      "execution_count": 8,
      "metadata": {
        "collapsed": true,
        "jupyter": {
          "source_hidden": false,
          "outputs_hidden": false
        },
        "nteract": {
          "transient": {
            "deleting": false
          }
        },
        "execution": {
          "iopub.status.busy": "2021-01-07T12:55:35.737Z",
          "iopub.execute_input": "2021-01-07T12:55:35.751Z",
          "iopub.status.idle": "2021-01-07T12:55:35.772Z",
          "shell.execute_reply": "2021-01-07T12:55:35.926Z"
        }
      }
    },
    {
      "cell_type": "code",
      "source": [
        "#convert location to int zipcodes and rename column\n",
        "df['Location'] = df['Location'].apply(lambda x: int(str(x[9::])))\n",
        "df.rename(columns = {'Location':'Zipcode'}, inplace = True) \n",
        "#add population column\n",
        "df['Zipcode Population'] = df['Zipcode'].map(zip_pop)\n"
      ],
      "outputs": [],
      "execution_count": 9,
      "metadata": {
        "collapsed": true,
        "jupyter": {
          "source_hidden": false,
          "outputs_hidden": false
        },
        "nteract": {
          "transient": {
            "deleting": false
          }
        },
        "execution": {
          "iopub.status.busy": "2021-01-07T12:55:35.789Z",
          "iopub.execute_input": "2021-01-07T12:55:35.804Z",
          "iopub.status.idle": "2021-01-07T12:55:35.823Z",
          "shell.execute_reply": "2021-01-07T12:55:35.931Z"
        }
      }
    },
    {
      "cell_type": "code",
      "source": [
        "#add new date column and drop Month, Day and Year Columns \n",
        "df.replace({'Month': {1: '01', 2: '02', 3: '03', 4: '04', 5: '05', 6:'06', 7:'07', 8:'08',  9:'09'},'Day': {1: '01', 2: '02', 3: '03', 4: '04', 5: '05', 6:'06', 7:'07', 8:'08', 9:'09'}}, inplace=True)\n",
        "\n",
        "df['Date'] = df['Year'].apply(str) + df['Month'].apply(str) + df['Day'].apply(str)\n",
        "df['Date'] = pd.to_datetime(df['Date'], format='%Y%m%d')\n",
        "\n",
        "df = df.drop(['Day','Month','Year'], axis=1)\n"
      ],
      "outputs": [],
      "execution_count": 10,
      "metadata": {
        "collapsed": true,
        "jupyter": {
          "source_hidden": false,
          "outputs_hidden": false
        },
        "nteract": {
          "transient": {
            "deleting": false
          }
        },
        "execution": {
          "iopub.status.busy": "2021-01-07T12:55:35.841Z",
          "iopub.execute_input": "2021-01-07T12:55:35.850Z",
          "iopub.status.idle": "2021-01-07T12:55:35.871Z",
          "shell.execute_reply": "2021-01-07T12:55:35.939Z"
        }
      }
    },
    {
      "cell_type": "code",
      "source": [
        "#add zipcode date which will serve as the primary key}\n",
        "df['Zipcode Date'] = df['Zipcode'].astype(str) + \" \" + df['Date'].astype(str)"
      ],
      "outputs": [],
      "execution_count": 11,
      "metadata": {
        "collapsed": true,
        "jupyter": {
          "source_hidden": false,
          "outputs_hidden": false
        },
        "nteract": {
          "transient": {
            "deleting": false
          }
        },
        "execution": {
          "iopub.status.busy": "2021-01-07T12:55:35.889Z",
          "iopub.execute_input": "2021-01-07T12:55:35.901Z",
          "iopub.status.idle": "2021-01-07T12:55:36.172Z",
          "shell.execute_reply": "2021-01-07T12:55:36.376Z"
        }
      }
    },
    {
      "cell_type": "code",
      "source": [
        "#latitudes and longitudes by zipcode\n",
        "lats_longs = {'19725':[39.564499,-75.597047],'19884':[39.564499,-75.597047],'19980':[39.07027,-75.57057],'19902':[39.131958,-75.46953], '19947':[38.676552,-75.39269],'19708':[39.577567,-75.690069],'19733':[39.555794,-75.65058], '19894': [39.564499,-75.597047], '19898':[39.564499,-75.597047],'19971':[38.711512,-75.09677],'19706':[39.573744,-75.59204],'19951':[38.682345,-75.23286],'19901':[39.16426,-75.51163],'19889':[39.564499,-75.597047],'19966':[38.601355,-75.2411],'19903':[39.10868,-75.448023],'19808':[39.734279,-75.6631],'19930':[38.536354,-75.06062],'19711':[39.700561,-75.7431],'19721':[39.564499,-75.597047],'19810':[39.817645,-75.50242],'19904':[39.161639,-75.5587],'19975':[38.463751,-75.15642],'19886':[39.564499,-75.597047],'19766':[39.567092,-75.601491],'19961':[39.166323,-75.448289],'19700':[39.570322,-75.590662],'19880':[39.564499,-75.597047],'19939':[38.557501,-75.21465],'19934':[39.094699,-75.58871],'19734':[39.386601,-75.66801],'19999':[38.542771,-75.05666],'19950':[38.818541,-75.60966],'19931':[38.570238,-75.6147],'19726':[39.564499,-75.597047],'19940':[38.469655,-75.5669], '19943':[39.011387,-75.58978],'19809':[39.771663,-75.49656],'19977':[39.29799,-75.59391],'19893':[39.564499,-75.597047],'19807':[39.787512,-75.60256],'19967':[38.54597,-75.11175],'19885':[39.564499,-75.597047],'19709':[39.479602,-75.6932],'19736':[39.790911,-75.64934],'19703':[39.800945,-75.46455],'19897':[39.564499,-75.597047],'19718':[39.564499,-75.597047],'19979':[39.0461,-75.57185],'19717':[39.564499,-75.597047],'19701':[39.598203,-75.69945],'19806':[39.758563,-75.56413],'19968':[38.772648,-75.28665],'19891':[39.564499,-75.597047],'19814':[39.713625,-75.596283],'19964':[39.098772,-75.73943],'19970':[38.55044,-75.09928],'19944':[38.459314,-75.05356],'19938':[39.265066,-75.6807],'19973':[38.643248,-75.61102],'19956':[38.549721,-75.55304],'19899':[39.734792,-75.624617],'19803':[39.793962,-75.53401],'19936':[39.218448,-75.584848], '19887': [39.564499,-75.597047],'19801':[39.738563,-75.54833],'19710':[39.788562,-75.58881],'19732':[39.794496,-75.57433],'19731':[39.518164,-75.57656],'19960':[38.855872,-75.39889],'19707':[39.784014,-75.68586],'19952':[38.916908,-75.61343],'19735':[39.794396,-75.597598],'19804':[39.721062,-75.60806],'19890':[39.564499,-75.597047],'19933':[38.73635,-75.60807],'19942':[38.868387,-75.57907],'19963':[38.922806,-75.41449], '19892':[39.564499,-75.597047],'19730':[39.456484,-75.65976],'19802':[39.756213,-75.53312],'19946':[39.037803,-75.46634],'19962': [39.06517,-75.49858], '19958':[38.746207,-75.16282], '19955':[39.227313,-75.66549],'19714':[39.564499,-75.597047],'19895': [39.564499,-75.597047], '19702':[39.626297,-75.71386],'19712':[39.564499,-75.597047], '19969':[38.725562,-75.353387],'19954':[38.909621,-75.51264], '19716':[39.564499,-75.597047], '19805':[39.745377,-75.58251],'19715':[39.564499,-75.597047],'19941':[38.80136,-75.42595], '19850':[39.564499,-75.597047], '19720':[39.669219,-75.59003],'19896':[39.564499,-75.597047],'19945':[38.511469,-75.18364], '19713':[39.669211,-75.71796], '19905':[39.10868,-75.448023],'19953':[39.150822,-75.70428]}\n"
      ],
      "outputs": [],
      "execution_count": 31,
      "metadata": {
        "collapsed": true,
        "jupyter": {
          "source_hidden": false,
          "outputs_hidden": false
        },
        "nteract": {
          "transient": {
            "deleting": false
          }
        },
        "execution": {
          "iopub.status.busy": "2021-01-07T20:55:24.057Z",
          "iopub.execute_input": "2021-01-07T20:55:24.069Z",
          "iopub.status.idle": "2021-01-07T20:55:24.085Z",
          "shell.execute_reply": "2021-01-07T20:55:24.093Z"
        }
      }
    },
    {
      "cell_type": "code",
      "source": [
        "long_lagsdf = pd.DataFrame.from_dict(lats_longs, orient='index', columns=['Zipcode Latitude', 'Zipcode longitude'])"
      ],
      "outputs": [],
      "execution_count": 68,
      "metadata": {
        "collapsed": true,
        "jupyter": {
          "source_hidden": false,
          "outputs_hidden": false
        },
        "nteract": {
          "transient": {
            "deleting": false
          }
        },
        "execution": {
          "iopub.status.busy": "2021-01-08T18:57:00.482Z",
          "iopub.execute_input": "2021-01-08T18:57:00.489Z",
          "iopub.status.idle": "2021-01-08T18:57:00.510Z",
          "shell.execute_reply": "2021-01-08T18:57:00.519Z"
        }
      }
    },
    {
      "cell_type": "code",
      "source": [
        "pd.DataFrame.to_dict(long_lagsdf, 'index')"
      ],
      "outputs": [
        {
          "output_type": "execute_result",
          "execution_count": 75,
          "data": {
            "text/plain": "{'19725': {'Zipcode Latitude': 39.564499, 'Zipcode longitude': -75.597047},\n '19884': {'Zipcode Latitude': 39.564499, 'Zipcode longitude': -75.597047},\n '19980': {'Zipcode Latitude': 39.07027, 'Zipcode longitude': -75.57057},\n '19902': {'Zipcode Latitude': 39.131958, 'Zipcode longitude': -75.46953},\n '19947': {'Zipcode Latitude': 38.676552, 'Zipcode longitude': -75.39269},\n '19708': {'Zipcode Latitude': 39.577567, 'Zipcode longitude': -75.690069},\n '19733': {'Zipcode Latitude': 39.555794, 'Zipcode longitude': -75.65058},\n '19894': {'Zipcode Latitude': 39.564499, 'Zipcode longitude': -75.597047},\n '19898': {'Zipcode Latitude': 39.564499, 'Zipcode longitude': -75.597047},\n '19971': {'Zipcode Latitude': 38.711512, 'Zipcode longitude': -75.09677},\n '19706': {'Zipcode Latitude': 39.573744, 'Zipcode longitude': -75.59204},\n '19951': {'Zipcode Latitude': 38.682345, 'Zipcode longitude': -75.23286},\n '19901': {'Zipcode Latitude': 39.16426, 'Zipcode longitude': -75.51163},\n '19889': {'Zipcode Latitude': 39.564499, 'Zipcode longitude': -75.597047},\n '19966': {'Zipcode Latitude': 38.601355, 'Zipcode longitude': -75.2411},\n '19903': {'Zipcode Latitude': 39.10868, 'Zipcode longitude': -75.448023},\n '19808': {'Zipcode Latitude': 39.734279, 'Zipcode longitude': -75.6631},\n '19930': {'Zipcode Latitude': 38.536354, 'Zipcode longitude': -75.06062},\n '19711': {'Zipcode Latitude': 39.700561, 'Zipcode longitude': -75.7431},\n '19721': {'Zipcode Latitude': 39.564499, 'Zipcode longitude': -75.597047},\n '19810': {'Zipcode Latitude': 39.817645, 'Zipcode longitude': -75.50242},\n '19904': {'Zipcode Latitude': 39.161639, 'Zipcode longitude': -75.5587},\n '19975': {'Zipcode Latitude': 38.463751, 'Zipcode longitude': -75.15642},\n '19886': {'Zipcode Latitude': 39.564499, 'Zipcode longitude': -75.597047},\n '19766': {'Zipcode Latitude': 39.567092, 'Zipcode longitude': -75.601491},\n '19961': {'Zipcode Latitude': 39.166323, 'Zipcode longitude': -75.448289},\n '19700': {'Zipcode Latitude': 39.570322, 'Zipcode longitude': -75.590662},\n '19880': {'Zipcode Latitude': 39.564499, 'Zipcode longitude': -75.597047},\n '19939': {'Zipcode Latitude': 38.557501, 'Zipcode longitude': -75.21465},\n '19934': {'Zipcode Latitude': 39.094699, 'Zipcode longitude': -75.58871},\n '19734': {'Zipcode Latitude': 39.386601, 'Zipcode longitude': -75.66801},\n '19999': {'Zipcode Latitude': 38.542771, 'Zipcode longitude': -75.05666},\n '19950': {'Zipcode Latitude': 38.818541, 'Zipcode longitude': -75.60966},\n '19931': {'Zipcode Latitude': 38.570238, 'Zipcode longitude': -75.6147},\n '19726': {'Zipcode Latitude': 39.564499, 'Zipcode longitude': -75.597047},\n '19940': {'Zipcode Latitude': 38.469655, 'Zipcode longitude': -75.5669},\n '19943': {'Zipcode Latitude': 39.011387, 'Zipcode longitude': -75.58978},\n '19809': {'Zipcode Latitude': 39.771663, 'Zipcode longitude': -75.49656},\n '19977': {'Zipcode Latitude': 39.29799, 'Zipcode longitude': -75.59391},\n '19893': {'Zipcode Latitude': 39.564499, 'Zipcode longitude': -75.597047},\n '19807': {'Zipcode Latitude': 39.787512, 'Zipcode longitude': -75.60256},\n '19967': {'Zipcode Latitude': 38.54597, 'Zipcode longitude': -75.11175},\n '19885': {'Zipcode Latitude': 39.564499, 'Zipcode longitude': -75.597047},\n '19709': {'Zipcode Latitude': 39.479602, 'Zipcode longitude': -75.6932},\n '19736': {'Zipcode Latitude': 39.790911, 'Zipcode longitude': -75.64934},\n '19703': {'Zipcode Latitude': 39.800945, 'Zipcode longitude': -75.46455},\n '19897': {'Zipcode Latitude': 39.564499, 'Zipcode longitude': -75.597047},\n '19718': {'Zipcode Latitude': 39.564499, 'Zipcode longitude': -75.597047},\n '19979': {'Zipcode Latitude': 39.0461, 'Zipcode longitude': -75.57185},\n '19717': {'Zipcode Latitude': 39.564499, 'Zipcode longitude': -75.597047},\n '19701': {'Zipcode Latitude': 39.598203, 'Zipcode longitude': -75.69945},\n '19806': {'Zipcode Latitude': 39.758563, 'Zipcode longitude': -75.56413},\n '19968': {'Zipcode Latitude': 38.772648, 'Zipcode longitude': -75.28665},\n '19891': {'Zipcode Latitude': 39.564499, 'Zipcode longitude': -75.597047},\n '19814': {'Zipcode Latitude': 39.713625, 'Zipcode longitude': -75.596283},\n '19964': {'Zipcode Latitude': 39.098772, 'Zipcode longitude': -75.73943},\n '19970': {'Zipcode Latitude': 38.55044, 'Zipcode longitude': -75.09928},\n '19944': {'Zipcode Latitude': 38.459314, 'Zipcode longitude': -75.05356},\n '19938': {'Zipcode Latitude': 39.265066, 'Zipcode longitude': -75.6807},\n '19973': {'Zipcode Latitude': 38.643248, 'Zipcode longitude': -75.61102},\n '19956': {'Zipcode Latitude': 38.549721, 'Zipcode longitude': -75.55304},\n '19899': {'Zipcode Latitude': 39.734792, 'Zipcode longitude': -75.624617},\n '19803': {'Zipcode Latitude': 39.793962, 'Zipcode longitude': -75.53401},\n '19936': {'Zipcode Latitude': 39.218448, 'Zipcode longitude': -75.584848},\n '19887': {'Zipcode Latitude': 39.564499, 'Zipcode longitude': -75.597047},\n '19801': {'Zipcode Latitude': 39.738563, 'Zipcode longitude': -75.54833},\n '19710': {'Zipcode Latitude': 39.788562, 'Zipcode longitude': -75.58881},\n '19732': {'Zipcode Latitude': 39.794496, 'Zipcode longitude': -75.57433},\n '19731': {'Zipcode Latitude': 39.518164, 'Zipcode longitude': -75.57656},\n '19960': {'Zipcode Latitude': 38.855872, 'Zipcode longitude': -75.39889},\n '19707': {'Zipcode Latitude': 39.784014, 'Zipcode longitude': -75.68586},\n '19952': {'Zipcode Latitude': 38.916908, 'Zipcode longitude': -75.61343},\n '19735': {'Zipcode Latitude': 39.794396, 'Zipcode longitude': -75.597598},\n '19804': {'Zipcode Latitude': 39.721062, 'Zipcode longitude': -75.60806},\n '19890': {'Zipcode Latitude': 39.564499, 'Zipcode longitude': -75.597047},\n '19933': {'Zipcode Latitude': 38.73635, 'Zipcode longitude': -75.60807},\n '19942': {'Zipcode Latitude': 38.868387, 'Zipcode longitude': -75.57907},\n '19963': {'Zipcode Latitude': 38.922806, 'Zipcode longitude': -75.41449},\n '19892': {'Zipcode Latitude': 39.564499, 'Zipcode longitude': -75.597047},\n '19730': {'Zipcode Latitude': 39.456484, 'Zipcode longitude': -75.65976},\n '19802': {'Zipcode Latitude': 39.756213, 'Zipcode longitude': -75.53312},\n '19946': {'Zipcode Latitude': 39.037803, 'Zipcode longitude': -75.46634},\n '19962': {'Zipcode Latitude': 39.06517, 'Zipcode longitude': -75.49858},\n '19958': {'Zipcode Latitude': 38.746207, 'Zipcode longitude': -75.16282},\n '19955': {'Zipcode Latitude': 39.227313, 'Zipcode longitude': -75.66549},\n '19714': {'Zipcode Latitude': 39.564499, 'Zipcode longitude': -75.597047},\n '19895': {'Zipcode Latitude': 39.564499, 'Zipcode longitude': -75.597047},\n '19702': {'Zipcode Latitude': 39.626297, 'Zipcode longitude': -75.71386},\n '19712': {'Zipcode Latitude': 39.564499, 'Zipcode longitude': -75.597047},\n '19969': {'Zipcode Latitude': 38.725562, 'Zipcode longitude': -75.353387},\n '19954': {'Zipcode Latitude': 38.909621, 'Zipcode longitude': -75.51264},\n '19716': {'Zipcode Latitude': 39.564499, 'Zipcode longitude': -75.597047},\n '19805': {'Zipcode Latitude': 39.745377, 'Zipcode longitude': -75.58251},\n '19715': {'Zipcode Latitude': 39.564499, 'Zipcode longitude': -75.597047},\n '19941': {'Zipcode Latitude': 38.80136, 'Zipcode longitude': -75.42595},\n '19850': {'Zipcode Latitude': 39.564499, 'Zipcode longitude': -75.597047},\n '19720': {'Zipcode Latitude': 39.669219, 'Zipcode longitude': -75.59003},\n '19896': {'Zipcode Latitude': 39.564499, 'Zipcode longitude': -75.597047},\n '19945': {'Zipcode Latitude': 38.511469, 'Zipcode longitude': -75.18364},\n '19713': {'Zipcode Latitude': 39.669211, 'Zipcode longitude': -75.71796},\n '19905': {'Zipcode Latitude': 39.10868, 'Zipcode longitude': -75.448023},\n '19953': {'Zipcode Latitude': 39.150822, 'Zipcode longitude': -75.70428}}"
          },
          "metadata": {}
        }
      ],
      "execution_count": 75,
      "metadata": {
        "collapsed": true,
        "jupyter": {
          "source_hidden": false,
          "outputs_hidden": false
        },
        "nteract": {
          "transient": {
            "deleting": false
          }
        },
        "execution": {
          "iopub.status.busy": "2021-01-08T19:02:45.230Z",
          "iopub.execute_input": "2021-01-08T19:02:45.241Z",
          "iopub.status.idle": "2021-01-08T19:02:45.257Z",
          "shell.execute_reply": "2021-01-08T19:02:45.270Z"
        }
      }
    },
    {
      "cell_type": "code",
      "source": [
        "lats = dict()\n",
        "longs = dict()\n",
        "for key, value in lats_longs.items():\n",
        "  lats[int(key)]= float(value[0])\n",
        "  longs[int(key)]=float(value[1])  "
      ],
      "outputs": [],
      "execution_count": 32,
      "metadata": {
        "collapsed": true,
        "jupyter": {
          "source_hidden": false,
          "outputs_hidden": false
        },
        "nteract": {
          "transient": {
            "deleting": false
          }
        },
        "execution": {
          "iopub.status.busy": "2021-01-07T20:55:31.902Z",
          "iopub.execute_input": "2021-01-07T20:55:31.908Z",
          "iopub.status.idle": "2021-01-07T20:55:31.924Z",
          "shell.execute_reply": "2021-01-07T20:55:31.934Z"
        }
      }
    },
    {
      "cell_type": "code",
      "source": [
        "df['Zipcode latitude'] = df['Zipcode'].map(lats)\n",
        "df['Zipcode longitude'] = df['Zipcode'].map(longs)\n"
      ],
      "outputs": [
        {
          "output_type": "execute_result",
          "execution_count": 34,
          "data": {
            "text/plain": "       Zipcode             County                            Statistic  Value  \\\n0        19701  New Castle County  Cumulative Number of Positive Cases    0.0   \n1        19701  New Castle County  Cumulative Number of Positive Cases    0.0   \n2        19701  New Castle County  Cumulative Number of Positive Cases    0.0   \n3        19701  New Castle County  Cumulative Number of Positive Cases    0.0   \n4        19701  New Castle County  Cumulative Number of Positive Cases    0.0   \n...        ...                ...                                  ...    ...   \n13551    19977        Kent County  Cumulative Number of Positive Cases  727.1   \n13552    19977        Kent County  Cumulative Number of Positive Cases  734.1   \n13553    19977        Kent County  Cumulative Number of Positive Cases  745.5   \n13554    19977        Kent County  Cumulative Number of Positive Cases  757.6   \n13555    19977        Kent County  Cumulative Number of Positive Cases  763.5   \n\n                    Date used                    Unit Age adjusted  \\\n0      Date reported to state  rate per 10,000 people        False   \n1      Date reported to state  rate per 10,000 people        False   \n2      Date reported to state  rate per 10,000 people        False   \n3      Date reported to state  rate per 10,000 people        False   \n4      Date reported to state  rate per 10,000 people        False   \n...                       ...                     ...          ...   \n13551  Date reported to state  rate per 10,000 people        False   \n13552  Date reported to state  rate per 10,000 people        False   \n13553  Date reported to state  rate per 10,000 people        False   \n13554  Date reported to state  rate per 10,000 people        False   \n13555  Date reported to state  rate per 10,000 people        False   \n\n       Zipcode Population       Date      Zipcode Date  Zipcode latitude  \\\n0                   40173 2020-03-08  19701 2020-03-08         39.598203   \n1                   40173 2020-03-09  19701 2020-03-09         39.598203   \n2                   40173 2020-03-10  19701 2020-03-10         39.598203   \n3                   40173 2020-03-11  19701 2020-03-11         39.598203   \n4                   40173 2020-03-12  19701 2020-03-12         39.598203   \n...                   ...        ...               ...               ...   \n13551               25670 2021-01-01  19977 2021-01-01         39.297990   \n13552               25670 2021-01-02  19977 2021-01-02         39.297990   \n13553               25670 2021-01-03  19977 2021-01-03         39.297990   \n13554               25670 2021-01-04  19977 2021-01-04         39.297990   \n13555               25670 2021-01-05  19977 2021-01-05         39.297990   \n\n       Zipcode longitude  \n0              -75.69945  \n1              -75.69945  \n2              -75.69945  \n3              -75.69945  \n4              -75.69945  \n...                  ...  \n13551          -75.59391  \n13552          -75.59391  \n13553          -75.59391  \n13554          -75.59391  \n13555          -75.59391  \n\n[13556 rows x 12 columns]",
            "text/html": "<div>\n<style scoped>\n    .dataframe tbody tr th:only-of-type {\n        vertical-align: middle;\n    }\n\n    .dataframe tbody tr th {\n        vertical-align: top;\n    }\n\n    .dataframe thead th {\n        text-align: right;\n    }\n</style>\n<table border=\"1\" class=\"dataframe\">\n  <thead>\n    <tr style=\"text-align: right;\">\n      <th></th>\n      <th>Zipcode</th>\n      <th>County</th>\n      <th>Statistic</th>\n      <th>Value</th>\n      <th>Date used</th>\n      <th>Unit</th>\n      <th>Age adjusted</th>\n      <th>Zipcode Population</th>\n      <th>Date</th>\n      <th>Zipcode Date</th>\n      <th>Zipcode latitude</th>\n      <th>Zipcode longitude</th>\n    </tr>\n  </thead>\n  <tbody>\n    <tr>\n      <th>0</th>\n      <td>19701</td>\n      <td>New Castle County</td>\n      <td>Cumulative Number of Positive Cases</td>\n      <td>0.0</td>\n      <td>Date reported to state</td>\n      <td>rate per 10,000 people</td>\n      <td>False</td>\n      <td>40173</td>\n      <td>2020-03-08</td>\n      <td>19701 2020-03-08</td>\n      <td>39.598203</td>\n      <td>-75.69945</td>\n    </tr>\n    <tr>\n      <th>1</th>\n      <td>19701</td>\n      <td>New Castle County</td>\n      <td>Cumulative Number of Positive Cases</td>\n      <td>0.0</td>\n      <td>Date reported to state</td>\n      <td>rate per 10,000 people</td>\n      <td>False</td>\n      <td>40173</td>\n      <td>2020-03-09</td>\n      <td>19701 2020-03-09</td>\n      <td>39.598203</td>\n      <td>-75.69945</td>\n    </tr>\n    <tr>\n      <th>2</th>\n      <td>19701</td>\n      <td>New Castle County</td>\n      <td>Cumulative Number of Positive Cases</td>\n      <td>0.0</td>\n      <td>Date reported to state</td>\n      <td>rate per 10,000 people</td>\n      <td>False</td>\n      <td>40173</td>\n      <td>2020-03-10</td>\n      <td>19701 2020-03-10</td>\n      <td>39.598203</td>\n      <td>-75.69945</td>\n    </tr>\n    <tr>\n      <th>3</th>\n      <td>19701</td>\n      <td>New Castle County</td>\n      <td>Cumulative Number of Positive Cases</td>\n      <td>0.0</td>\n      <td>Date reported to state</td>\n      <td>rate per 10,000 people</td>\n      <td>False</td>\n      <td>40173</td>\n      <td>2020-03-11</td>\n      <td>19701 2020-03-11</td>\n      <td>39.598203</td>\n      <td>-75.69945</td>\n    </tr>\n    <tr>\n      <th>4</th>\n      <td>19701</td>\n      <td>New Castle County</td>\n      <td>Cumulative Number of Positive Cases</td>\n      <td>0.0</td>\n      <td>Date reported to state</td>\n      <td>rate per 10,000 people</td>\n      <td>False</td>\n      <td>40173</td>\n      <td>2020-03-12</td>\n      <td>19701 2020-03-12</td>\n      <td>39.598203</td>\n      <td>-75.69945</td>\n    </tr>\n    <tr>\n      <th>...</th>\n      <td>...</td>\n      <td>...</td>\n      <td>...</td>\n      <td>...</td>\n      <td>...</td>\n      <td>...</td>\n      <td>...</td>\n      <td>...</td>\n      <td>...</td>\n      <td>...</td>\n      <td>...</td>\n      <td>...</td>\n    </tr>\n    <tr>\n      <th>13551</th>\n      <td>19977</td>\n      <td>Kent County</td>\n      <td>Cumulative Number of Positive Cases</td>\n      <td>727.1</td>\n      <td>Date reported to state</td>\n      <td>rate per 10,000 people</td>\n      <td>False</td>\n      <td>25670</td>\n      <td>2021-01-01</td>\n      <td>19977 2021-01-01</td>\n      <td>39.297990</td>\n      <td>-75.59391</td>\n    </tr>\n    <tr>\n      <th>13552</th>\n      <td>19977</td>\n      <td>Kent County</td>\n      <td>Cumulative Number of Positive Cases</td>\n      <td>734.1</td>\n      <td>Date reported to state</td>\n      <td>rate per 10,000 people</td>\n      <td>False</td>\n      <td>25670</td>\n      <td>2021-01-02</td>\n      <td>19977 2021-01-02</td>\n      <td>39.297990</td>\n      <td>-75.59391</td>\n    </tr>\n    <tr>\n      <th>13553</th>\n      <td>19977</td>\n      <td>Kent County</td>\n      <td>Cumulative Number of Positive Cases</td>\n      <td>745.5</td>\n      <td>Date reported to state</td>\n      <td>rate per 10,000 people</td>\n      <td>False</td>\n      <td>25670</td>\n      <td>2021-01-03</td>\n      <td>19977 2021-01-03</td>\n      <td>39.297990</td>\n      <td>-75.59391</td>\n    </tr>\n    <tr>\n      <th>13554</th>\n      <td>19977</td>\n      <td>Kent County</td>\n      <td>Cumulative Number of Positive Cases</td>\n      <td>757.6</td>\n      <td>Date reported to state</td>\n      <td>rate per 10,000 people</td>\n      <td>False</td>\n      <td>25670</td>\n      <td>2021-01-04</td>\n      <td>19977 2021-01-04</td>\n      <td>39.297990</td>\n      <td>-75.59391</td>\n    </tr>\n    <tr>\n      <th>13555</th>\n      <td>19977</td>\n      <td>Kent County</td>\n      <td>Cumulative Number of Positive Cases</td>\n      <td>763.5</td>\n      <td>Date reported to state</td>\n      <td>rate per 10,000 people</td>\n      <td>False</td>\n      <td>25670</td>\n      <td>2021-01-05</td>\n      <td>19977 2021-01-05</td>\n      <td>39.297990</td>\n      <td>-75.59391</td>\n    </tr>\n  </tbody>\n</table>\n<p>13556 rows × 12 columns</p>\n</div>"
          },
          "metadata": {}
        }
      ],
      "execution_count": 34,
      "metadata": {
        "collapsed": true,
        "jupyter": {
          "source_hidden": false,
          "outputs_hidden": false
        },
        "nteract": {
          "transient": {
            "deleting": false
          }
        },
        "execution": {
          "iopub.status.busy": "2021-01-07T20:55:42.030Z",
          "iopub.execute_input": "2021-01-07T20:55:42.044Z",
          "iopub.status.idle": "2021-01-07T20:55:42.154Z",
          "shell.execute_reply": "2021-01-07T20:55:42.206Z"
        }
      }
    },
    {
      "cell_type": "code",
      "source": [
        "df.info()"
      ],
      "outputs": [
        {
          "output_type": "stream",
          "name": "stdout",
          "text": [
            "<class 'pandas.core.frame.DataFrame'>\n",
            "RangeIndex: 13556 entries, 0 to 13555\n",
            "Data columns (total 12 columns):\n",
            " #   Column              Non-Null Count  Dtype         \n",
            "---  ------              --------------  -----         \n",
            " 0   Zipcode             13556 non-null  int64         \n",
            " 1   County              13556 non-null  object        \n",
            " 2   Statistic           13556 non-null  object        \n",
            " 3   Value               13556 non-null  float64       \n",
            " 4   Date used           13556 non-null  object        \n",
            " 5   Unit                13556 non-null  object        \n",
            " 6   Age adjusted        13556 non-null  object        \n",
            " 7   Zipcode Population  13556 non-null  int64         \n",
            " 8   Date                13556 non-null  datetime64[ns]\n",
            " 9   Zipcode Date        13556 non-null  object        \n",
            " 10  Zipcode latitude    13556 non-null  float64       \n",
            " 11  Zipcode longitude   13556 non-null  float64       \n",
            "dtypes: datetime64[ns](1), float64(3), int64(2), object(6)\n",
            "memory usage: 1.2+ MB\n"
          ]
        }
      ],
      "execution_count": 35,
      "metadata": {
        "collapsed": true,
        "jupyter": {
          "source_hidden": false,
          "outputs_hidden": false
        },
        "nteract": {
          "transient": {
            "deleting": false
          }
        },
        "execution": {
          "iopub.status.busy": "2021-01-08T02:07:28.793Z",
          "iopub.execute_input": "2021-01-08T02:07:28.802Z",
          "iopub.status.idle": "2021-01-08T02:07:29.037Z",
          "shell.execute_reply": "2021-01-08T02:07:29.045Z"
        }
      }
    },
    {
      "cell_type": "code",
      "source": [
        "todaycase = df.loc[(df['Date']==\"2021-01-04\")]\n",
        "todaycase.info()"
      ],
      "outputs": [
        {
          "output_type": "stream",
          "name": "stdout",
          "text": [
            "<class 'pandas.core.frame.DataFrame'>\n",
            "Int64Index: 47 entries, 290 to 13554\n",
            "Data columns (total 12 columns):\n",
            " #   Column              Non-Null Count  Dtype         \n",
            "---  ------              --------------  -----         \n",
            " 0   Zipcode             47 non-null     int64         \n",
            " 1   County              47 non-null     object        \n",
            " 2   Statistic           47 non-null     object        \n",
            " 3   Value               47 non-null     float64       \n",
            " 4   Date used           47 non-null     object        \n",
            " 5   Unit                47 non-null     object        \n",
            " 6   Age adjusted        47 non-null     object        \n",
            " 7   Zipcode Population  47 non-null     int64         \n",
            " 8   Date                47 non-null     datetime64[ns]\n",
            " 9   Zipcode Date        47 non-null     object        \n",
            " 10  Zipcode latitude    47 non-null     float64       \n",
            " 11  Zipcode longitude   47 non-null     float64       \n",
            "dtypes: datetime64[ns](1), float64(3), int64(2), object(6)\n",
            "memory usage: 4.8+ KB\n"
          ]
        }
      ],
      "execution_count": 37,
      "metadata": {
        "collapsed": true,
        "jupyter": {
          "source_hidden": false,
          "outputs_hidden": false
        },
        "nteract": {
          "transient": {
            "deleting": false
          }
        },
        "execution": {
          "iopub.status.busy": "2021-01-08T02:11:45.185Z",
          "iopub.execute_input": "2021-01-08T02:11:45.195Z",
          "iopub.status.idle": "2021-01-08T02:11:45.221Z",
          "shell.execute_reply": "2021-01-08T02:11:45.233Z"
        }
      }
    },
    {
      "cell_type": "code",
      "source": [
        "\n",
        "m = folium.Map(location=[39.018541,-75.60966], zoom_start=7.5)\n",
        " \n",
        "# I can add marker one by one on the map\n",
        "for i in range(0,len(todaycase)):\n",
        "   folium.Circle(\n",
        "      location=[todaycase.iloc[i]['Zipcode latitude'], todaycase.iloc[i]['Zipcode longitude']],\n",
        "      popup=todaycase.iloc[i]['Zipcode'],\n",
        "      radius=todaycase.iloc[i]['Value']*9,\n",
        "      color='crimson',\n",
        "      fill=True,\n",
        "      fill_color='crimson'\n",
        "   ).add_to(m)\n",
        " \n",
        "m\n"
      ],
      "outputs": [
        {
          "output_type": "execute_result",
          "execution_count": 41,
          "data": {
            "text/plain": "<folium.folium.Map at 0x122a77880>",
            "text/html": "<div style=\"width:100%;\"><div style=\"position:relative;width:100%;height:0;padding-bottom:60%;\"><span style=\"color:#565656\">Make this Notebook Trusted to load map: File -> Trust Notebook</span><iframe src=\"about:blank\" style=\"position:absolute;width:100%;height:100%;left:0;top:0;border:none !important;\" data-html=%3C%21DOCTYPE%20html%3E%0A%3Chead%3E%20%20%20%20%0A%20%20%20%20%3Cmeta%20http-equiv%3D%22content-type%22%20content%3D%22text/html%3B%20charset%3DUTF-8%22%20/%3E%0A%20%20%20%20%0A%20%20%20%20%20%20%20%20%3Cscript%3E%0A%20%20%20%20%20%20%20%20%20%20%20%20L_NO_TOUCH%20%3D%20false%3B%0A%20%20%20%20%20%20%20%20%20%20%20%20L_DISABLE_3D%20%3D%20false%3B%0A%20%20%20%20%20%20%20%20%3C/script%3E%0A%20%20%20%20%0A%20%20%20%20%3Cscript%20src%3D%22https%3A//cdn.jsdelivr.net/npm/leaflet%401.6.0/dist/leaflet.js%22%3E%3C/script%3E%0A%20%20%20%20%3Cscript%20src%3D%22https%3A//code.jquery.com/jquery-1.12.4.min.js%22%3E%3C/script%3E%0A%20%20%20%20%3Cscript%20src%3D%22https%3A//maxcdn.bootstrapcdn.com/bootstrap/3.2.0/js/bootstrap.min.js%22%3E%3C/script%3E%0A%20%20%20%20%3Cscript%20src%3D%22https%3A//cdnjs.cloudflare.com/ajax/libs/Leaflet.awesome-markers/2.0.2/leaflet.awesome-markers.js%22%3E%3C/script%3E%0A%20%20%20%20%3Clink%20rel%3D%22stylesheet%22%20href%3D%22https%3A//cdn.jsdelivr.net/npm/leaflet%401.6.0/dist/leaflet.css%22/%3E%0A%20%20%20%20%3Clink%20rel%3D%22stylesheet%22%20href%3D%22https%3A//maxcdn.bootstrapcdn.com/bootstrap/3.2.0/css/bootstrap.min.css%22/%3E%0A%20%20%20%20%3Clink%20rel%3D%22stylesheet%22%20href%3D%22https%3A//maxcdn.bootstrapcdn.com/bootstrap/3.2.0/css/bootstrap-theme.min.css%22/%3E%0A%20%20%20%20%3Clink%20rel%3D%22stylesheet%22%20href%3D%22https%3A//maxcdn.bootstrapcdn.com/font-awesome/4.6.3/css/font-awesome.min.css%22/%3E%0A%20%20%20%20%3Clink%20rel%3D%22stylesheet%22%20href%3D%22https%3A//cdnjs.cloudflare.com/ajax/libs/Leaflet.awesome-markers/2.0.2/leaflet.awesome-markers.css%22/%3E%0A%20%20%20%20%3Clink%20rel%3D%22stylesheet%22%20href%3D%22https%3A//rawcdn.githack.com/python-visualization/folium/master/folium/templates/leaflet.awesome.rotate.css%22/%3E%0A%20%20%20%20%3Cstyle%3Ehtml%2C%20body%20%7Bwidth%3A%20100%25%3Bheight%3A%20100%25%3Bmargin%3A%200%3Bpadding%3A%200%3B%7D%3C/style%3E%0A%20%20%20%20%3Cstyle%3E%23map%20%7Bposition%3Aabsolute%3Btop%3A0%3Bbottom%3A0%3Bright%3A0%3Bleft%3A0%3B%7D%3C/style%3E%0A%20%20%20%20%0A%20%20%20%20%20%20%20%20%20%20%20%20%3Cmeta%20name%3D%22viewport%22%20content%3D%22width%3Ddevice-width%2C%0A%20%20%20%20%20%20%20%20%20%20%20%20%20%20%20%20initial-scale%3D1.0%2C%20maximum-scale%3D1.0%2C%20user-scalable%3Dno%22%20/%3E%0A%20%20%20%20%20%20%20%20%20%20%20%20%3Cstyle%3E%0A%20%20%20%20%20%20%20%20%20%20%20%20%20%20%20%20%23map_eb35dd8b85da458dbd67899f3a134854%20%7B%0A%20%20%20%20%20%20%20%20%20%20%20%20%20%20%20%20%20%20%20%20position%3A%20relative%3B%0A%20%20%20%20%20%20%20%20%20%20%20%20%20%20%20%20%20%20%20%20width%3A%20100.0%25%3B%0A%20%20%20%20%20%20%20%20%20%20%20%20%20%20%20%20%20%20%20%20height%3A%20100.0%25%3B%0A%20%20%20%20%20%20%20%20%20%20%20%20%20%20%20%20%20%20%20%20left%3A%200.0%25%3B%0A%20%20%20%20%20%20%20%20%20%20%20%20%20%20%20%20%20%20%20%20top%3A%200.0%25%3B%0A%20%20%20%20%20%20%20%20%20%20%20%20%20%20%20%20%7D%0A%20%20%20%20%20%20%20%20%20%20%20%20%3C/style%3E%0A%20%20%20%20%20%20%20%20%0A%3C/head%3E%0A%3Cbody%3E%20%20%20%20%0A%20%20%20%20%0A%20%20%20%20%20%20%20%20%20%20%20%20%3Cdiv%20class%3D%22folium-map%22%20id%3D%22map_eb35dd8b85da458dbd67899f3a134854%22%20%3E%3C/div%3E%0A%20%20%20%20%20%20%20%20%0A%3C/body%3E%0A%3Cscript%3E%20%20%20%20%0A%20%20%20%20%0A%20%20%20%20%20%20%20%20%20%20%20%20var%20map_eb35dd8b85da458dbd67899f3a134854%20%3D%20L.map%28%0A%20%20%20%20%20%20%20%20%20%20%20%20%20%20%20%20%22map_eb35dd8b85da458dbd67899f3a134854%22%2C%0A%20%20%20%20%20%20%20%20%20%20%20%20%20%20%20%20%7B%0A%20%20%20%20%20%20%20%20%20%20%20%20%20%20%20%20%20%20%20%20center%3A%20%5B39.018541%2C%20-75.60966%5D%2C%0A%20%20%20%20%20%20%20%20%20%20%20%20%20%20%20%20%20%20%20%20crs%3A%20L.CRS.EPSG3857%2C%0A%20%20%20%20%20%20%20%20%20%20%20%20%20%20%20%20%20%20%20%20zoom%3A%207.5%2C%0A%20%20%20%20%20%20%20%20%20%20%20%20%20%20%20%20%20%20%20%20zoomControl%3A%20true%2C%0A%20%20%20%20%20%20%20%20%20%20%20%20%20%20%20%20%20%20%20%20preferCanvas%3A%20false%2C%0A%20%20%20%20%20%20%20%20%20%20%20%20%20%20%20%20%7D%0A%20%20%20%20%20%20%20%20%20%20%20%20%29%3B%0A%0A%20%20%20%20%20%20%20%20%20%20%20%20%0A%0A%20%20%20%20%20%20%20%20%0A%20%20%20%20%0A%20%20%20%20%20%20%20%20%20%20%20%20var%20tile_layer_7dcdee948689404fae9600969d75c168%20%3D%20L.tileLayer%28%0A%20%20%20%20%20%20%20%20%20%20%20%20%20%20%20%20%22https%3A//%7Bs%7D.tile.openstreetmap.org/%7Bz%7D/%7Bx%7D/%7By%7D.png%22%2C%0A%20%20%20%20%20%20%20%20%20%20%20%20%20%20%20%20%7B%22attribution%22%3A%20%22Data%20by%20%5Cu0026copy%3B%20%5Cu003ca%20href%3D%5C%22http%3A//openstreetmap.org%5C%22%5Cu003eOpenStreetMap%5Cu003c/a%5Cu003e%2C%20under%20%5Cu003ca%20href%3D%5C%22http%3A//www.openstreetmap.org/copyright%5C%22%5Cu003eODbL%5Cu003c/a%5Cu003e.%22%2C%20%22detectRetina%22%3A%20false%2C%20%22maxNativeZoom%22%3A%2018%2C%20%22maxZoom%22%3A%2018%2C%20%22minZoom%22%3A%200%2C%20%22noWrap%22%3A%20false%2C%20%22opacity%22%3A%201%2C%20%22subdomains%22%3A%20%22abc%22%2C%20%22tms%22%3A%20false%7D%0A%20%20%20%20%20%20%20%20%20%20%20%20%29.addTo%28map_eb35dd8b85da458dbd67899f3a134854%29%3B%0A%20%20%20%20%20%20%20%20%0A%20%20%20%20%0A%20%20%20%20%20%20%20%20%20%20%20%20var%20circle_156c44e16c54488d8d039efd8f9089f7%20%3D%20L.circle%28%0A%20%20%20%20%20%20%20%20%20%20%20%20%20%20%20%20%5B39.598203%2C%20-75.69945%5D%2C%0A%20%20%20%20%20%20%20%20%20%20%20%20%20%20%20%20%7B%22bubblingMouseEvents%22%3A%20true%2C%20%22color%22%3A%20%22crimson%22%2C%20%22dashArray%22%3A%20null%2C%20%22dashOffset%22%3A%20null%2C%20%22fill%22%3A%20true%2C%20%22fillColor%22%3A%20%22crimson%22%2C%20%22fillOpacity%22%3A%200.2%2C%20%22fillRule%22%3A%20%22evenodd%22%2C%20%22lineCap%22%3A%20%22round%22%2C%20%22lineJoin%22%3A%20%22round%22%2C%20%22opacity%22%3A%201.0%2C%20%22radius%22%3A%205475.599999999999%2C%20%22stroke%22%3A%20true%2C%20%22weight%22%3A%203%7D%0A%20%20%20%20%20%20%20%20%20%20%20%20%29.addTo%28map_eb35dd8b85da458dbd67899f3a134854%29%3B%0A%20%20%20%20%20%20%20%20%0A%20%20%20%20%0A%20%20%20%20%20%20%20%20var%20popup_f75d640d08a24e0192af2f06fc1e66c5%20%3D%20L.popup%28%7B%22maxWidth%22%3A%20%22100%25%22%7D%29%3B%0A%0A%20%20%20%20%20%20%20%20%0A%20%20%20%20%20%20%20%20%20%20%20%20var%20html_2be508bfa349459c94e60155c5495807%20%3D%20%24%28%60%3Cdiv%20id%3D%22html_2be508bfa349459c94e60155c5495807%22%20style%3D%22width%3A%20100.0%25%3B%20height%3A%20100.0%25%3B%22%3E19701%3C/div%3E%60%29%5B0%5D%3B%0A%20%20%20%20%20%20%20%20%20%20%20%20popup_f75d640d08a24e0192af2f06fc1e66c5.setContent%28html_2be508bfa349459c94e60155c5495807%29%3B%0A%20%20%20%20%20%20%20%20%0A%0A%20%20%20%20%20%20%20%20circle_156c44e16c54488d8d039efd8f9089f7.bindPopup%28popup_f75d640d08a24e0192af2f06fc1e66c5%29%0A%20%20%20%20%20%20%20%20%3B%0A%0A%20%20%20%20%20%20%20%20%0A%20%20%20%20%0A%20%20%20%20%0A%20%20%20%20%20%20%20%20%20%20%20%20var%20circle_404cc60b0d0142d9934d76448999f1a2%20%3D%20L.circle%28%0A%20%20%20%20%20%20%20%20%20%20%20%20%20%20%20%20%5B39.626297%2C%20-75.71386%5D%2C%0A%20%20%20%20%20%20%20%20%20%20%20%20%20%20%20%20%7B%22bubblingMouseEvents%22%3A%20true%2C%20%22color%22%3A%20%22crimson%22%2C%20%22dashArray%22%3A%20null%2C%20%22dashOffset%22%3A%20null%2C%20%22fill%22%3A%20true%2C%20%22fillColor%22%3A%20%22crimson%22%2C%20%22fillOpacity%22%3A%200.2%2C%20%22fillRule%22%3A%20%22evenodd%22%2C%20%22lineCap%22%3A%20%22round%22%2C%20%22lineJoin%22%3A%20%22round%22%2C%20%22opacity%22%3A%201.0%2C%20%22radius%22%3A%205433.3%2C%20%22stroke%22%3A%20true%2C%20%22weight%22%3A%203%7D%0A%20%20%20%20%20%20%20%20%20%20%20%20%29.addTo%28map_eb35dd8b85da458dbd67899f3a134854%29%3B%0A%20%20%20%20%20%20%20%20%0A%20%20%20%20%0A%20%20%20%20%20%20%20%20var%20popup_6408039c954a4596a018b7af4cbc25ed%20%3D%20L.popup%28%7B%22maxWidth%22%3A%20%22100%25%22%7D%29%3B%0A%0A%20%20%20%20%20%20%20%20%0A%20%20%20%20%20%20%20%20%20%20%20%20var%20html_b5877bb3548c46cbae61a02b73d0bd2c%20%3D%20%24%28%60%3Cdiv%20id%3D%22html_b5877bb3548c46cbae61a02b73d0bd2c%22%20style%3D%22width%3A%20100.0%25%3B%20height%3A%20100.0%25%3B%22%3E19702%3C/div%3E%60%29%5B0%5D%3B%0A%20%20%20%20%20%20%20%20%20%20%20%20popup_6408039c954a4596a018b7af4cbc25ed.setContent%28html_b5877bb3548c46cbae61a02b73d0bd2c%29%3B%0A%20%20%20%20%20%20%20%20%0A%0A%20%20%20%20%20%20%20%20circle_404cc60b0d0142d9934d76448999f1a2.bindPopup%28popup_6408039c954a4596a018b7af4cbc25ed%29%0A%20%20%20%20%20%20%20%20%3B%0A%0A%20%20%20%20%20%20%20%20%0A%20%20%20%20%0A%20%20%20%20%0A%20%20%20%20%20%20%20%20%20%20%20%20var%20circle_d9836765fd71400eb3d2bd846e726e87%20%3D%20L.circle%28%0A%20%20%20%20%20%20%20%20%20%20%20%20%20%20%20%20%5B39.800945%2C%20-75.46455%5D%2C%0A%20%20%20%20%20%20%20%20%20%20%20%20%20%20%20%20%7B%22bubblingMouseEvents%22%3A%20true%2C%20%22color%22%3A%20%22crimson%22%2C%20%22dashArray%22%3A%20null%2C%20%22dashOffset%22%3A%20null%2C%20%22fill%22%3A%20true%2C%20%22fillColor%22%3A%20%22crimson%22%2C%20%22fillOpacity%22%3A%200.2%2C%20%22fillRule%22%3A%20%22evenodd%22%2C%20%22lineCap%22%3A%20%22round%22%2C%20%22lineJoin%22%3A%20%22round%22%2C%20%22opacity%22%3A%201.0%2C%20%22radius%22%3A%205374.8%2C%20%22stroke%22%3A%20true%2C%20%22weight%22%3A%203%7D%0A%20%20%20%20%20%20%20%20%20%20%20%20%29.addTo%28map_eb35dd8b85da458dbd67899f3a134854%29%3B%0A%20%20%20%20%20%20%20%20%0A%20%20%20%20%0A%20%20%20%20%20%20%20%20var%20popup_14aa85c4a4e64d7985e2fd9e4dea9daf%20%3D%20L.popup%28%7B%22maxWidth%22%3A%20%22100%25%22%7D%29%3B%0A%0A%20%20%20%20%20%20%20%20%0A%20%20%20%20%20%20%20%20%20%20%20%20var%20html_d726e35b6d3348259f7508430d9f3ecc%20%3D%20%24%28%60%3Cdiv%20id%3D%22html_d726e35b6d3348259f7508430d9f3ecc%22%20style%3D%22width%3A%20100.0%25%3B%20height%3A%20100.0%25%3B%22%3E19703%3C/div%3E%60%29%5B0%5D%3B%0A%20%20%20%20%20%20%20%20%20%20%20%20popup_14aa85c4a4e64d7985e2fd9e4dea9daf.setContent%28html_d726e35b6d3348259f7508430d9f3ecc%29%3B%0A%20%20%20%20%20%20%20%20%0A%0A%20%20%20%20%20%20%20%20circle_d9836765fd71400eb3d2bd846e726e87.bindPopup%28popup_14aa85c4a4e64d7985e2fd9e4dea9daf%29%0A%20%20%20%20%20%20%20%20%3B%0A%0A%20%20%20%20%20%20%20%20%0A%20%20%20%20%0A%20%20%20%20%0A%20%20%20%20%20%20%20%20%20%20%20%20var%20circle_00bf1b21e20d4fa1b1807823475baf30%20%3D%20L.circle%28%0A%20%20%20%20%20%20%20%20%20%20%20%20%20%20%20%20%5B39.784014%2C%20-75.68586%5D%2C%0A%20%20%20%20%20%20%20%20%20%20%20%20%20%20%20%20%7B%22bubblingMouseEvents%22%3A%20true%2C%20%22color%22%3A%20%22crimson%22%2C%20%22dashArray%22%3A%20null%2C%20%22dashOffset%22%3A%20null%2C%20%22fill%22%3A%20true%2C%20%22fillColor%22%3A%20%22crimson%22%2C%20%22fillOpacity%22%3A%200.2%2C%20%22fillRule%22%3A%20%22evenodd%22%2C%20%22lineCap%22%3A%20%22round%22%2C%20%22lineJoin%22%3A%20%22round%22%2C%20%22opacity%22%3A%201.0%2C%20%22radius%22%3A%204569.3%2C%20%22stroke%22%3A%20true%2C%20%22weight%22%3A%203%7D%0A%20%20%20%20%20%20%20%20%20%20%20%20%29.addTo%28map_eb35dd8b85da458dbd67899f3a134854%29%3B%0A%20%20%20%20%20%20%20%20%0A%20%20%20%20%0A%20%20%20%20%20%20%20%20var%20popup_429009a9c713449ea89f54a589ecb82f%20%3D%20L.popup%28%7B%22maxWidth%22%3A%20%22100%25%22%7D%29%3B%0A%0A%20%20%20%20%20%20%20%20%0A%20%20%20%20%20%20%20%20%20%20%20%20var%20html_b430c1f7b98f432f899fd7d8094d210c%20%3D%20%24%28%60%3Cdiv%20id%3D%22html_b430c1f7b98f432f899fd7d8094d210c%22%20style%3D%22width%3A%20100.0%25%3B%20height%3A%20100.0%25%3B%22%3E19707%3C/div%3E%60%29%5B0%5D%3B%0A%20%20%20%20%20%20%20%20%20%20%20%20popup_429009a9c713449ea89f54a589ecb82f.setContent%28html_b430c1f7b98f432f899fd7d8094d210c%29%3B%0A%20%20%20%20%20%20%20%20%0A%0A%20%20%20%20%20%20%20%20circle_00bf1b21e20d4fa1b1807823475baf30.bindPopup%28popup_429009a9c713449ea89f54a589ecb82f%29%0A%20%20%20%20%20%20%20%20%3B%0A%0A%20%20%20%20%20%20%20%20%0A%20%20%20%20%0A%20%20%20%20%0A%20%20%20%20%20%20%20%20%20%20%20%20var%20circle_64e68fdd20074113b9fd93b94d8de930%20%3D%20L.circle%28%0A%20%20%20%20%20%20%20%20%20%20%20%20%20%20%20%20%5B39.479602%2C%20-75.6932%5D%2C%0A%20%20%20%20%20%20%20%20%20%20%20%20%20%20%20%20%7B%22bubblingMouseEvents%22%3A%20true%2C%20%22color%22%3A%20%22crimson%22%2C%20%22dashArray%22%3A%20null%2C%20%22dashOffset%22%3A%20null%2C%20%22fill%22%3A%20true%2C%20%22fillColor%22%3A%20%22crimson%22%2C%20%22fillOpacity%22%3A%200.2%2C%20%22fillRule%22%3A%20%22evenodd%22%2C%20%22lineCap%22%3A%20%22round%22%2C%20%22lineJoin%22%3A%20%22round%22%2C%20%22opacity%22%3A%201.0%2C%20%22radius%22%3A%206326.099999999999%2C%20%22stroke%22%3A%20true%2C%20%22weight%22%3A%203%7D%0A%20%20%20%20%20%20%20%20%20%20%20%20%29.addTo%28map_eb35dd8b85da458dbd67899f3a134854%29%3B%0A%20%20%20%20%20%20%20%20%0A%20%20%20%20%0A%20%20%20%20%20%20%20%20var%20popup_b00cc890debb4c44a0b444b0bbc7d608%20%3D%20L.popup%28%7B%22maxWidth%22%3A%20%22100%25%22%7D%29%3B%0A%0A%20%20%20%20%20%20%20%20%0A%20%20%20%20%20%20%20%20%20%20%20%20var%20html_294aa782373d45df87bffa21fe7a569d%20%3D%20%24%28%60%3Cdiv%20id%3D%22html_294aa782373d45df87bffa21fe7a569d%22%20style%3D%22width%3A%20100.0%25%3B%20height%3A%20100.0%25%3B%22%3E19709%3C/div%3E%60%29%5B0%5D%3B%0A%20%20%20%20%20%20%20%20%20%20%20%20popup_b00cc890debb4c44a0b444b0bbc7d608.setContent%28html_294aa782373d45df87bffa21fe7a569d%29%3B%0A%20%20%20%20%20%20%20%20%0A%0A%20%20%20%20%20%20%20%20circle_64e68fdd20074113b9fd93b94d8de930.bindPopup%28popup_b00cc890debb4c44a0b444b0bbc7d608%29%0A%20%20%20%20%20%20%20%20%3B%0A%0A%20%20%20%20%20%20%20%20%0A%20%20%20%20%0A%20%20%20%20%0A%20%20%20%20%20%20%20%20%20%20%20%20var%20circle_0b6c0b6e1883470fbff63c571a7052ba%20%3D%20L.circle%28%0A%20%20%20%20%20%20%20%20%20%20%20%20%20%20%20%20%5B39.700561%2C%20-75.7431%5D%2C%0A%20%20%20%20%20%20%20%20%20%20%20%20%20%20%20%20%7B%22bubblingMouseEvents%22%3A%20true%2C%20%22color%22%3A%20%22crimson%22%2C%20%22dashArray%22%3A%20null%2C%20%22dashOffset%22%3A%20null%2C%20%22fill%22%3A%20true%2C%20%22fillColor%22%3A%20%22crimson%22%2C%20%22fillOpacity%22%3A%200.2%2C%20%22fillRule%22%3A%20%22evenodd%22%2C%20%22lineCap%22%3A%20%22round%22%2C%20%22lineJoin%22%3A%20%22round%22%2C%20%22opacity%22%3A%201.0%2C%20%22radius%22%3A%205202.900000000001%2C%20%22stroke%22%3A%20true%2C%20%22weight%22%3A%203%7D%0A%20%20%20%20%20%20%20%20%20%20%20%20%29.addTo%28map_eb35dd8b85da458dbd67899f3a134854%29%3B%0A%20%20%20%20%20%20%20%20%0A%20%20%20%20%0A%20%20%20%20%20%20%20%20var%20popup_5955f3076a0e4656824c4dd741ae28b8%20%3D%20L.popup%28%7B%22maxWidth%22%3A%20%22100%25%22%7D%29%3B%0A%0A%20%20%20%20%20%20%20%20%0A%20%20%20%20%20%20%20%20%20%20%20%20var%20html_d05781953ed04fdab79fbc407197516d%20%3D%20%24%28%60%3Cdiv%20id%3D%22html_d05781953ed04fdab79fbc407197516d%22%20style%3D%22width%3A%20100.0%25%3B%20height%3A%20100.0%25%3B%22%3E19711%3C/div%3E%60%29%5B0%5D%3B%0A%20%20%20%20%20%20%20%20%20%20%20%20popup_5955f3076a0e4656824c4dd741ae28b8.setContent%28html_d05781953ed04fdab79fbc407197516d%29%3B%0A%20%20%20%20%20%20%20%20%0A%0A%20%20%20%20%20%20%20%20circle_0b6c0b6e1883470fbff63c571a7052ba.bindPopup%28popup_5955f3076a0e4656824c4dd741ae28b8%29%0A%20%20%20%20%20%20%20%20%3B%0A%0A%20%20%20%20%20%20%20%20%0A%20%20%20%20%0A%20%20%20%20%0A%20%20%20%20%20%20%20%20%20%20%20%20var%20circle_0e245e331bbd467985d08cd8b58cf2c8%20%3D%20L.circle%28%0A%20%20%20%20%20%20%20%20%20%20%20%20%20%20%20%20%5B39.669211%2C%20-75.71796%5D%2C%0A%20%20%20%20%20%20%20%20%20%20%20%20%20%20%20%20%7B%22bubblingMouseEvents%22%3A%20true%2C%20%22color%22%3A%20%22crimson%22%2C%20%22dashArray%22%3A%20null%2C%20%22dashOffset%22%3A%20null%2C%20%22fill%22%3A%20true%2C%20%22fillColor%22%3A%20%22crimson%22%2C%20%22fillOpacity%22%3A%200.2%2C%20%22fillRule%22%3A%20%22evenodd%22%2C%20%22lineCap%22%3A%20%22round%22%2C%20%22lineJoin%22%3A%20%22round%22%2C%20%22opacity%22%3A%201.0%2C%20%22radius%22%3A%206378.3%2C%20%22stroke%22%3A%20true%2C%20%22weight%22%3A%203%7D%0A%20%20%20%20%20%20%20%20%20%20%20%20%29.addTo%28map_eb35dd8b85da458dbd67899f3a134854%29%3B%0A%20%20%20%20%20%20%20%20%0A%20%20%20%20%0A%20%20%20%20%20%20%20%20var%20popup_569debb170aa4a6eba8a2c6bed87cd27%20%3D%20L.popup%28%7B%22maxWidth%22%3A%20%22100%25%22%7D%29%3B%0A%0A%20%20%20%20%20%20%20%20%0A%20%20%20%20%20%20%20%20%20%20%20%20var%20html_8ef686fda6aa4a1da8e111e3a011be59%20%3D%20%24%28%60%3Cdiv%20id%3D%22html_8ef686fda6aa4a1da8e111e3a011be59%22%20style%3D%22width%3A%20100.0%25%3B%20height%3A%20100.0%25%3B%22%3E19713%3C/div%3E%60%29%5B0%5D%3B%0A%20%20%20%20%20%20%20%20%20%20%20%20popup_569debb170aa4a6eba8a2c6bed87cd27.setContent%28html_8ef686fda6aa4a1da8e111e3a011be59%29%3B%0A%20%20%20%20%20%20%20%20%0A%0A%20%20%20%20%20%20%20%20circle_0e245e331bbd467985d08cd8b58cf2c8.bindPopup%28popup_569debb170aa4a6eba8a2c6bed87cd27%29%0A%20%20%20%20%20%20%20%20%3B%0A%0A%20%20%20%20%20%20%20%20%0A%20%20%20%20%0A%20%20%20%20%0A%20%20%20%20%20%20%20%20%20%20%20%20var%20circle_027b322d5453419a8d3e2c6581931d05%20%3D%20L.circle%28%0A%20%20%20%20%20%20%20%20%20%20%20%20%20%20%20%20%5B39.564499%2C%20-75.597047%5D%2C%0A%20%20%20%20%20%20%20%20%20%20%20%20%20%20%20%20%7B%22bubblingMouseEvents%22%3A%20true%2C%20%22color%22%3A%20%22crimson%22%2C%20%22dashArray%22%3A%20null%2C%20%22dashOffset%22%3A%20null%2C%20%22fill%22%3A%20true%2C%20%22fillColor%22%3A%20%22crimson%22%2C%20%22fillOpacity%22%3A%200.2%2C%20%22fillRule%22%3A%20%22evenodd%22%2C%20%22lineCap%22%3A%20%22round%22%2C%20%22lineJoin%22%3A%20%22round%22%2C%20%22opacity%22%3A%201.0%2C%20%22radius%22%3A%201122.3%2C%20%22stroke%22%3A%20true%2C%20%22weight%22%3A%203%7D%0A%20%20%20%20%20%20%20%20%20%20%20%20%29.addTo%28map_eb35dd8b85da458dbd67899f3a134854%29%3B%0A%20%20%20%20%20%20%20%20%0A%20%20%20%20%0A%20%20%20%20%20%20%20%20var%20popup_c3789135725849e5b0aa2a56bc7cc7e9%20%3D%20L.popup%28%7B%22maxWidth%22%3A%20%22100%25%22%7D%29%3B%0A%0A%20%20%20%20%20%20%20%20%0A%20%20%20%20%20%20%20%20%20%20%20%20var%20html_7cb973a791514df591c7bd97c5061991%20%3D%20%24%28%60%3Cdiv%20id%3D%22html_7cb973a791514df591c7bd97c5061991%22%20style%3D%22width%3A%20100.0%25%3B%20height%3A%20100.0%25%3B%22%3E19717%3C/div%3E%60%29%5B0%5D%3B%0A%20%20%20%20%20%20%20%20%20%20%20%20popup_c3789135725849e5b0aa2a56bc7cc7e9.setContent%28html_7cb973a791514df591c7bd97c5061991%29%3B%0A%20%20%20%20%20%20%20%20%0A%0A%20%20%20%20%20%20%20%20circle_027b322d5453419a8d3e2c6581931d05.bindPopup%28popup_c3789135725849e5b0aa2a56bc7cc7e9%29%0A%20%20%20%20%20%20%20%20%3B%0A%0A%20%20%20%20%20%20%20%20%0A%20%20%20%20%0A%20%20%20%20%0A%20%20%20%20%20%20%20%20%20%20%20%20var%20circle_3ac8c651beaa43108f6b5eb8a1da0af6%20%3D%20L.circle%28%0A%20%20%20%20%20%20%20%20%20%20%20%20%20%20%20%20%5B39.669219%2C%20-75.59003%5D%2C%0A%20%20%20%20%20%20%20%20%20%20%20%20%20%20%20%20%7B%22bubblingMouseEvents%22%3A%20true%2C%20%22color%22%3A%20%22crimson%22%2C%20%22dashArray%22%3A%20null%2C%20%22dashOffset%22%3A%20null%2C%20%22fill%22%3A%20true%2C%20%22fillColor%22%3A%20%22crimson%22%2C%20%22fillOpacity%22%3A%200.2%2C%20%22fillRule%22%3A%20%22evenodd%22%2C%20%22lineCap%22%3A%20%22round%22%2C%20%22lineJoin%22%3A%20%22round%22%2C%20%22opacity%22%3A%201.0%2C%20%22radius%22%3A%206768.900000000001%2C%20%22stroke%22%3A%20true%2C%20%22weight%22%3A%203%7D%0A%20%20%20%20%20%20%20%20%20%20%20%20%29.addTo%28map_eb35dd8b85da458dbd67899f3a134854%29%3B%0A%20%20%20%20%20%20%20%20%0A%20%20%20%20%0A%20%20%20%20%20%20%20%20var%20popup_e472838c0d524838bdde4f563e617011%20%3D%20L.popup%28%7B%22maxWidth%22%3A%20%22100%25%22%7D%29%3B%0A%0A%20%20%20%20%20%20%20%20%0A%20%20%20%20%20%20%20%20%20%20%20%20var%20html_09c5182d618846759f111c6d4ecfcd4d%20%3D%20%24%28%60%3Cdiv%20id%3D%22html_09c5182d618846759f111c6d4ecfcd4d%22%20style%3D%22width%3A%20100.0%25%3B%20height%3A%20100.0%25%3B%22%3E19720%3C/div%3E%60%29%5B0%5D%3B%0A%20%20%20%20%20%20%20%20%20%20%20%20popup_e472838c0d524838bdde4f563e617011.setContent%28html_09c5182d618846759f111c6d4ecfcd4d%29%3B%0A%20%20%20%20%20%20%20%20%0A%0A%20%20%20%20%20%20%20%20circle_3ac8c651beaa43108f6b5eb8a1da0af6.bindPopup%28popup_e472838c0d524838bdde4f563e617011%29%0A%20%20%20%20%20%20%20%20%3B%0A%0A%20%20%20%20%20%20%20%20%0A%20%20%20%20%0A%20%20%20%20%0A%20%20%20%20%20%20%20%20%20%20%20%20var%20circle_08bb92085231416d8260c605d1d97222%20%3D%20L.circle%28%0A%20%20%20%20%20%20%20%20%20%20%20%20%20%20%20%20%5B39.386601%2C%20-75.66801%5D%2C%0A%20%20%20%20%20%20%20%20%20%20%20%20%20%20%20%20%7B%22bubblingMouseEvents%22%3A%20true%2C%20%22color%22%3A%20%22crimson%22%2C%20%22dashArray%22%3A%20null%2C%20%22dashOffset%22%3A%20null%2C%20%22fill%22%3A%20true%2C%20%22fillColor%22%3A%20%22crimson%22%2C%20%22fillOpacity%22%3A%200.2%2C%20%22fillRule%22%3A%20%22evenodd%22%2C%20%22lineCap%22%3A%20%22round%22%2C%20%22lineJoin%22%3A%20%22round%22%2C%20%22opacity%22%3A%201.0%2C%20%22radius%22%3A%205691.599999999999%2C%20%22stroke%22%3A%20true%2C%20%22weight%22%3A%203%7D%0A%20%20%20%20%20%20%20%20%20%20%20%20%29.addTo%28map_eb35dd8b85da458dbd67899f3a134854%29%3B%0A%20%20%20%20%20%20%20%20%0A%20%20%20%20%0A%20%20%20%20%20%20%20%20var%20popup_49acce53fdab4d3ca8f1ec03b97ce1d4%20%3D%20L.popup%28%7B%22maxWidth%22%3A%20%22100%25%22%7D%29%3B%0A%0A%20%20%20%20%20%20%20%20%0A%20%20%20%20%20%20%20%20%20%20%20%20var%20html_59379ef919e048758afe564d28c4489e%20%3D%20%24%28%60%3Cdiv%20id%3D%22html_59379ef919e048758afe564d28c4489e%22%20style%3D%22width%3A%20100.0%25%3B%20height%3A%20100.0%25%3B%22%3E19734%3C/div%3E%60%29%5B0%5D%3B%0A%20%20%20%20%20%20%20%20%20%20%20%20popup_49acce53fdab4d3ca8f1ec03b97ce1d4.setContent%28html_59379ef919e048758afe564d28c4489e%29%3B%0A%20%20%20%20%20%20%20%20%0A%0A%20%20%20%20%20%20%20%20circle_08bb92085231416d8260c605d1d97222.bindPopup%28popup_49acce53fdab4d3ca8f1ec03b97ce1d4%29%0A%20%20%20%20%20%20%20%20%3B%0A%0A%20%20%20%20%20%20%20%20%0A%20%20%20%20%0A%20%20%20%20%0A%20%20%20%20%20%20%20%20%20%20%20%20var%20circle_6a03c1fc5f2e415a84cc3b6d588ac32e%20%3D%20L.circle%28%0A%20%20%20%20%20%20%20%20%20%20%20%20%20%20%20%20%5B39.738563%2C%20-75.54833%5D%2C%0A%20%20%20%20%20%20%20%20%20%20%20%20%20%20%20%20%7B%22bubblingMouseEvents%22%3A%20true%2C%20%22color%22%3A%20%22crimson%22%2C%20%22dashArray%22%3A%20null%2C%20%22dashOffset%22%3A%20null%2C%20%22fill%22%3A%20true%2C%20%22fillColor%22%3A%20%22crimson%22%2C%20%22fillOpacity%22%3A%200.2%2C%20%22fillRule%22%3A%20%22evenodd%22%2C%20%22lineCap%22%3A%20%22round%22%2C%20%22lineJoin%22%3A%20%22round%22%2C%20%22opacity%22%3A%201.0%2C%20%22radius%22%3A%206951.599999999999%2C%20%22stroke%22%3A%20true%2C%20%22weight%22%3A%203%7D%0A%20%20%20%20%20%20%20%20%20%20%20%20%29.addTo%28map_eb35dd8b85da458dbd67899f3a134854%29%3B%0A%20%20%20%20%20%20%20%20%0A%20%20%20%20%0A%20%20%20%20%20%20%20%20var%20popup_ccf7c9bc19f448509890d58697e30acf%20%3D%20L.popup%28%7B%22maxWidth%22%3A%20%22100%25%22%7D%29%3B%0A%0A%20%20%20%20%20%20%20%20%0A%20%20%20%20%20%20%20%20%20%20%20%20var%20html_82ae2f4e55c9417d8b33a39740f3b220%20%3D%20%24%28%60%3Cdiv%20id%3D%22html_82ae2f4e55c9417d8b33a39740f3b220%22%20style%3D%22width%3A%20100.0%25%3B%20height%3A%20100.0%25%3B%22%3E19801%3C/div%3E%60%29%5B0%5D%3B%0A%20%20%20%20%20%20%20%20%20%20%20%20popup_ccf7c9bc19f448509890d58697e30acf.setContent%28html_82ae2f4e55c9417d8b33a39740f3b220%29%3B%0A%20%20%20%20%20%20%20%20%0A%0A%20%20%20%20%20%20%20%20circle_6a03c1fc5f2e415a84cc3b6d588ac32e.bindPopup%28popup_ccf7c9bc19f448509890d58697e30acf%29%0A%20%20%20%20%20%20%20%20%3B%0A%0A%20%20%20%20%20%20%20%20%0A%20%20%20%20%0A%20%20%20%20%0A%20%20%20%20%20%20%20%20%20%20%20%20var%20circle_5dd93ca8d769413f906ad9e6e0829255%20%3D%20L.circle%28%0A%20%20%20%20%20%20%20%20%20%20%20%20%20%20%20%20%5B39.756213%2C%20-75.53312%5D%2C%0A%20%20%20%20%20%20%20%20%20%20%20%20%20%20%20%20%7B%22bubblingMouseEvents%22%3A%20true%2C%20%22color%22%3A%20%22crimson%22%2C%20%22dashArray%22%3A%20null%2C%20%22dashOffset%22%3A%20null%2C%20%22fill%22%3A%20true%2C%20%22fillColor%22%3A%20%22crimson%22%2C%20%22fillOpacity%22%3A%200.2%2C%20%22fillRule%22%3A%20%22evenodd%22%2C%20%22lineCap%22%3A%20%22round%22%2C%20%22lineJoin%22%3A%20%22round%22%2C%20%22opacity%22%3A%201.0%2C%20%22radius%22%3A%205009.400000000001%2C%20%22stroke%22%3A%20true%2C%20%22weight%22%3A%203%7D%0A%20%20%20%20%20%20%20%20%20%20%20%20%29.addTo%28map_eb35dd8b85da458dbd67899f3a134854%29%3B%0A%20%20%20%20%20%20%20%20%0A%20%20%20%20%0A%20%20%20%20%20%20%20%20var%20popup_781a3a81e8494e5385efeaae76ae1415%20%3D%20L.popup%28%7B%22maxWidth%22%3A%20%22100%25%22%7D%29%3B%0A%0A%20%20%20%20%20%20%20%20%0A%20%20%20%20%20%20%20%20%20%20%20%20var%20html_727c73e299a646b1bf7d78ce6e725437%20%3D%20%24%28%60%3Cdiv%20id%3D%22html_727c73e299a646b1bf7d78ce6e725437%22%20style%3D%22width%3A%20100.0%25%3B%20height%3A%20100.0%25%3B%22%3E19802%3C/div%3E%60%29%5B0%5D%3B%0A%20%20%20%20%20%20%20%20%20%20%20%20popup_781a3a81e8494e5385efeaae76ae1415.setContent%28html_727c73e299a646b1bf7d78ce6e725437%29%3B%0A%20%20%20%20%20%20%20%20%0A%0A%20%20%20%20%20%20%20%20circle_5dd93ca8d769413f906ad9e6e0829255.bindPopup%28popup_781a3a81e8494e5385efeaae76ae1415%29%0A%20%20%20%20%20%20%20%20%3B%0A%0A%20%20%20%20%20%20%20%20%0A%20%20%20%20%0A%20%20%20%20%0A%20%20%20%20%20%20%20%20%20%20%20%20var%20circle_bd794e4a7ca24c48885be6a0bdd931d8%20%3D%20L.circle%28%0A%20%20%20%20%20%20%20%20%20%20%20%20%20%20%20%20%5B39.793962%2C%20-75.53401%5D%2C%0A%20%20%20%20%20%20%20%20%20%20%20%20%20%20%20%20%7B%22bubblingMouseEvents%22%3A%20true%2C%20%22color%22%3A%20%22crimson%22%2C%20%22dashArray%22%3A%20null%2C%20%22dashOffset%22%3A%20null%2C%20%22fill%22%3A%20true%2C%20%22fillColor%22%3A%20%22crimson%22%2C%20%22fillOpacity%22%3A%200.2%2C%20%22fillRule%22%3A%20%22evenodd%22%2C%20%22lineCap%22%3A%20%22round%22%2C%20%22lineJoin%22%3A%20%22round%22%2C%20%22opacity%22%3A%201.0%2C%20%22radius%22%3A%204747.5%2C%20%22stroke%22%3A%20true%2C%20%22weight%22%3A%203%7D%0A%20%20%20%20%20%20%20%20%20%20%20%20%29.addTo%28map_eb35dd8b85da458dbd67899f3a134854%29%3B%0A%20%20%20%20%20%20%20%20%0A%20%20%20%20%0A%20%20%20%20%20%20%20%20var%20popup_fd88db0aca324e3fa92db371064db770%20%3D%20L.popup%28%7B%22maxWidth%22%3A%20%22100%25%22%7D%29%3B%0A%0A%20%20%20%20%20%20%20%20%0A%20%20%20%20%20%20%20%20%20%20%20%20var%20html_7b47cf717c824c3b9f4d1182551bff73%20%3D%20%24%28%60%3Cdiv%20id%3D%22html_7b47cf717c824c3b9f4d1182551bff73%22%20style%3D%22width%3A%20100.0%25%3B%20height%3A%20100.0%25%3B%22%3E19803%3C/div%3E%60%29%5B0%5D%3B%0A%20%20%20%20%20%20%20%20%20%20%20%20popup_fd88db0aca324e3fa92db371064db770.setContent%28html_7b47cf717c824c3b9f4d1182551bff73%29%3B%0A%20%20%20%20%20%20%20%20%0A%0A%20%20%20%20%20%20%20%20circle_bd794e4a7ca24c48885be6a0bdd931d8.bindPopup%28popup_fd88db0aca324e3fa92db371064db770%29%0A%20%20%20%20%20%20%20%20%3B%0A%0A%20%20%20%20%20%20%20%20%0A%20%20%20%20%0A%20%20%20%20%0A%20%20%20%20%20%20%20%20%20%20%20%20var%20circle_dcf355e5064b48bbb05b6c841ea25332%20%3D%20L.circle%28%0A%20%20%20%20%20%20%20%20%20%20%20%20%20%20%20%20%5B39.721062%2C%20-75.60806%5D%2C%0A%20%20%20%20%20%20%20%20%20%20%20%20%20%20%20%20%7B%22bubblingMouseEvents%22%3A%20true%2C%20%22color%22%3A%20%22crimson%22%2C%20%22dashArray%22%3A%20null%2C%20%22dashOffset%22%3A%20null%2C%20%22fill%22%3A%20true%2C%20%22fillColor%22%3A%20%22crimson%22%2C%20%22fillOpacity%22%3A%200.2%2C%20%22fillRule%22%3A%20%22evenodd%22%2C%20%22lineCap%22%3A%20%22round%22%2C%20%22lineJoin%22%3A%20%22round%22%2C%20%22opacity%22%3A%201.0%2C%20%22radius%22%3A%206791.400000000001%2C%20%22stroke%22%3A%20true%2C%20%22weight%22%3A%203%7D%0A%20%20%20%20%20%20%20%20%20%20%20%20%29.addTo%28map_eb35dd8b85da458dbd67899f3a134854%29%3B%0A%20%20%20%20%20%20%20%20%0A%20%20%20%20%0A%20%20%20%20%20%20%20%20var%20popup_3ec2759eb55f40de81a6619f837f6e31%20%3D%20L.popup%28%7B%22maxWidth%22%3A%20%22100%25%22%7D%29%3B%0A%0A%20%20%20%20%20%20%20%20%0A%20%20%20%20%20%20%20%20%20%20%20%20var%20html_e3f89e465e6c43d39d3ff971ab4e6426%20%3D%20%24%28%60%3Cdiv%20id%3D%22html_e3f89e465e6c43d39d3ff971ab4e6426%22%20style%3D%22width%3A%20100.0%25%3B%20height%3A%20100.0%25%3B%22%3E19804%3C/div%3E%60%29%5B0%5D%3B%0A%20%20%20%20%20%20%20%20%20%20%20%20popup_3ec2759eb55f40de81a6619f837f6e31.setContent%28html_e3f89e465e6c43d39d3ff971ab4e6426%29%3B%0A%20%20%20%20%20%20%20%20%0A%0A%20%20%20%20%20%20%20%20circle_dcf355e5064b48bbb05b6c841ea25332.bindPopup%28popup_3ec2759eb55f40de81a6619f837f6e31%29%0A%20%20%20%20%20%20%20%20%3B%0A%0A%20%20%20%20%20%20%20%20%0A%20%20%20%20%0A%20%20%20%20%0A%20%20%20%20%20%20%20%20%20%20%20%20var%20circle_fe10c4e5062e407fa323948e240e41da%20%3D%20L.circle%28%0A%20%20%20%20%20%20%20%20%20%20%20%20%20%20%20%20%5B39.745377%2C%20-75.58251%5D%2C%0A%20%20%20%20%20%20%20%20%20%20%20%20%20%20%20%20%7B%22bubblingMouseEvents%22%3A%20true%2C%20%22color%22%3A%20%22crimson%22%2C%20%22dashArray%22%3A%20null%2C%20%22dashOffset%22%3A%20null%2C%20%22fill%22%3A%20true%2C%20%22fillColor%22%3A%20%22crimson%22%2C%20%22fillOpacity%22%3A%200.2%2C%20%22fillRule%22%3A%20%22evenodd%22%2C%20%22lineCap%22%3A%20%22round%22%2C%20%22lineJoin%22%3A%20%22round%22%2C%20%22opacity%22%3A%201.0%2C%20%22radius%22%3A%207117.2%2C%20%22stroke%22%3A%20true%2C%20%22weight%22%3A%203%7D%0A%20%20%20%20%20%20%20%20%20%20%20%20%29.addTo%28map_eb35dd8b85da458dbd67899f3a134854%29%3B%0A%20%20%20%20%20%20%20%20%0A%20%20%20%20%0A%20%20%20%20%20%20%20%20var%20popup_7f53739604ba47a38fd2d2a27a6671ec%20%3D%20L.popup%28%7B%22maxWidth%22%3A%20%22100%25%22%7D%29%3B%0A%0A%20%20%20%20%20%20%20%20%0A%20%20%20%20%20%20%20%20%20%20%20%20var%20html_61936e995fa341fb930b54cc1b562d26%20%3D%20%24%28%60%3Cdiv%20id%3D%22html_61936e995fa341fb930b54cc1b562d26%22%20style%3D%22width%3A%20100.0%25%3B%20height%3A%20100.0%25%3B%22%3E19805%3C/div%3E%60%29%5B0%5D%3B%0A%20%20%20%20%20%20%20%20%20%20%20%20popup_7f53739604ba47a38fd2d2a27a6671ec.setContent%28html_61936e995fa341fb930b54cc1b562d26%29%3B%0A%20%20%20%20%20%20%20%20%0A%0A%20%20%20%20%20%20%20%20circle_fe10c4e5062e407fa323948e240e41da.bindPopup%28popup_7f53739604ba47a38fd2d2a27a6671ec%29%0A%20%20%20%20%20%20%20%20%3B%0A%0A%20%20%20%20%20%20%20%20%0A%20%20%20%20%0A%20%20%20%20%0A%20%20%20%20%20%20%20%20%20%20%20%20var%20circle_1d99742b9abe4c138b72dceae6928c49%20%3D%20L.circle%28%0A%20%20%20%20%20%20%20%20%20%20%20%20%20%20%20%20%5B39.758563%2C%20-75.56413%5D%2C%0A%20%20%20%20%20%20%20%20%20%20%20%20%20%20%20%20%7B%22bubblingMouseEvents%22%3A%20true%2C%20%22color%22%3A%20%22crimson%22%2C%20%22dashArray%22%3A%20null%2C%20%22dashOffset%22%3A%20null%2C%20%22fill%22%3A%20true%2C%20%22fillColor%22%3A%20%22crimson%22%2C%20%22fillOpacity%22%3A%200.2%2C%20%22fillRule%22%3A%20%22evenodd%22%2C%20%22lineCap%22%3A%20%22round%22%2C%20%22lineJoin%22%3A%20%22round%22%2C%20%22opacity%22%3A%201.0%2C%20%22radius%22%3A%205220.900000000001%2C%20%22stroke%22%3A%20true%2C%20%22weight%22%3A%203%7D%0A%20%20%20%20%20%20%20%20%20%20%20%20%29.addTo%28map_eb35dd8b85da458dbd67899f3a134854%29%3B%0A%20%20%20%20%20%20%20%20%0A%20%20%20%20%0A%20%20%20%20%20%20%20%20var%20popup_22ee9664d2dd44d8842b454f2dc7ce1a%20%3D%20L.popup%28%7B%22maxWidth%22%3A%20%22100%25%22%7D%29%3B%0A%0A%20%20%20%20%20%20%20%20%0A%20%20%20%20%20%20%20%20%20%20%20%20var%20html_86b3c6a60ff940aebf9b25b88496cf95%20%3D%20%24%28%60%3Cdiv%20id%3D%22html_86b3c6a60ff940aebf9b25b88496cf95%22%20style%3D%22width%3A%20100.0%25%3B%20height%3A%20100.0%25%3B%22%3E19806%3C/div%3E%60%29%5B0%5D%3B%0A%20%20%20%20%20%20%20%20%20%20%20%20popup_22ee9664d2dd44d8842b454f2dc7ce1a.setContent%28html_86b3c6a60ff940aebf9b25b88496cf95%29%3B%0A%20%20%20%20%20%20%20%20%0A%0A%20%20%20%20%20%20%20%20circle_1d99742b9abe4c138b72dceae6928c49.bindPopup%28popup_22ee9664d2dd44d8842b454f2dc7ce1a%29%0A%20%20%20%20%20%20%20%20%3B%0A%0A%20%20%20%20%20%20%20%20%0A%20%20%20%20%0A%20%20%20%20%0A%20%20%20%20%20%20%20%20%20%20%20%20var%20circle_667abab36d894c3e95030109d228b95e%20%3D%20L.circle%28%0A%20%20%20%20%20%20%20%20%20%20%20%20%20%20%20%20%5B39.787512%2C%20-75.60256%5D%2C%0A%20%20%20%20%20%20%20%20%20%20%20%20%20%20%20%20%7B%22bubblingMouseEvents%22%3A%20true%2C%20%22color%22%3A%20%22crimson%22%2C%20%22dashArray%22%3A%20null%2C%20%22dashOffset%22%3A%20null%2C%20%22fill%22%3A%20true%2C%20%22fillColor%22%3A%20%22crimson%22%2C%20%22fillOpacity%22%3A%200.2%2C%20%22fillRule%22%3A%20%22evenodd%22%2C%20%22lineCap%22%3A%20%22round%22%2C%20%22lineJoin%22%3A%20%22round%22%2C%20%22opacity%22%3A%201.0%2C%20%22radius%22%3A%204630.5%2C%20%22stroke%22%3A%20true%2C%20%22weight%22%3A%203%7D%0A%20%20%20%20%20%20%20%20%20%20%20%20%29.addTo%28map_eb35dd8b85da458dbd67899f3a134854%29%3B%0A%20%20%20%20%20%20%20%20%0A%20%20%20%20%0A%20%20%20%20%20%20%20%20var%20popup_2582adedae054d06ab19147c1f2a17f0%20%3D%20L.popup%28%7B%22maxWidth%22%3A%20%22100%25%22%7D%29%3B%0A%0A%20%20%20%20%20%20%20%20%0A%20%20%20%20%20%20%20%20%20%20%20%20var%20html_eaaae0a9cb834c51b8d2dd9908e2965c%20%3D%20%24%28%60%3Cdiv%20id%3D%22html_eaaae0a9cb834c51b8d2dd9908e2965c%22%20style%3D%22width%3A%20100.0%25%3B%20height%3A%20100.0%25%3B%22%3E19807%3C/div%3E%60%29%5B0%5D%3B%0A%20%20%20%20%20%20%20%20%20%20%20%20popup_2582adedae054d06ab19147c1f2a17f0.setContent%28html_eaaae0a9cb834c51b8d2dd9908e2965c%29%3B%0A%20%20%20%20%20%20%20%20%0A%0A%20%20%20%20%20%20%20%20circle_667abab36d894c3e95030109d228b95e.bindPopup%28popup_2582adedae054d06ab19147c1f2a17f0%29%0A%20%20%20%20%20%20%20%20%3B%0A%0A%20%20%20%20%20%20%20%20%0A%20%20%20%20%0A%20%20%20%20%0A%20%20%20%20%20%20%20%20%20%20%20%20var%20circle_d081fd75dce447f49f1e45401e57a8aa%20%3D%20L.circle%28%0A%20%20%20%20%20%20%20%20%20%20%20%20%20%20%20%20%5B39.734279%2C%20-75.6631%5D%2C%0A%20%20%20%20%20%20%20%20%20%20%20%20%20%20%20%20%7B%22bubblingMouseEvents%22%3A%20true%2C%20%22color%22%3A%20%22crimson%22%2C%20%22dashArray%22%3A%20null%2C%20%22dashOffset%22%3A%20null%2C%20%22fill%22%3A%20true%2C%20%22fillColor%22%3A%20%22crimson%22%2C%20%22fillOpacity%22%3A%200.2%2C%20%22fillRule%22%3A%20%22evenodd%22%2C%20%22lineCap%22%3A%20%22round%22%2C%20%22lineJoin%22%3A%20%22round%22%2C%20%22opacity%22%3A%201.0%2C%20%22radius%22%3A%205330.7%2C%20%22stroke%22%3A%20true%2C%20%22weight%22%3A%203%7D%0A%20%20%20%20%20%20%20%20%20%20%20%20%29.addTo%28map_eb35dd8b85da458dbd67899f3a134854%29%3B%0A%20%20%20%20%20%20%20%20%0A%20%20%20%20%0A%20%20%20%20%20%20%20%20var%20popup_f7efcdd39f9b49e29637514d900d676d%20%3D%20L.popup%28%7B%22maxWidth%22%3A%20%22100%25%22%7D%29%3B%0A%0A%20%20%20%20%20%20%20%20%0A%20%20%20%20%20%20%20%20%20%20%20%20var%20html_ac5c87a889fd4e6d82c7d8ffdc62a4f4%20%3D%20%24%28%60%3Cdiv%20id%3D%22html_ac5c87a889fd4e6d82c7d8ffdc62a4f4%22%20style%3D%22width%3A%20100.0%25%3B%20height%3A%20100.0%25%3B%22%3E19808%3C/div%3E%60%29%5B0%5D%3B%0A%20%20%20%20%20%20%20%20%20%20%20%20popup_f7efcdd39f9b49e29637514d900d676d.setContent%28html_ac5c87a889fd4e6d82c7d8ffdc62a4f4%29%3B%0A%20%20%20%20%20%20%20%20%0A%0A%20%20%20%20%20%20%20%20circle_d081fd75dce447f49f1e45401e57a8aa.bindPopup%28popup_f7efcdd39f9b49e29637514d900d676d%29%0A%20%20%20%20%20%20%20%20%3B%0A%0A%20%20%20%20%20%20%20%20%0A%20%20%20%20%0A%20%20%20%20%0A%20%20%20%20%20%20%20%20%20%20%20%20var%20circle_a861efddcd95451eab3d8d79e1886597%20%3D%20L.circle%28%0A%20%20%20%20%20%20%20%20%20%20%20%20%20%20%20%20%5B39.771663%2C%20-75.49656%5D%2C%0A%20%20%20%20%20%20%20%20%20%20%20%20%20%20%20%20%7B%22bubblingMouseEvents%22%3A%20true%2C%20%22color%22%3A%20%22crimson%22%2C%20%22dashArray%22%3A%20null%2C%20%22dashOffset%22%3A%20null%2C%20%22fill%22%3A%20true%2C%20%22fillColor%22%3A%20%22crimson%22%2C%20%22fillOpacity%22%3A%200.2%2C%20%22fillRule%22%3A%20%22evenodd%22%2C%20%22lineCap%22%3A%20%22round%22%2C%20%22lineJoin%22%3A%20%22round%22%2C%20%22opacity%22%3A%201.0%2C%20%22radius%22%3A%204104.0%2C%20%22stroke%22%3A%20true%2C%20%22weight%22%3A%203%7D%0A%20%20%20%20%20%20%20%20%20%20%20%20%29.addTo%28map_eb35dd8b85da458dbd67899f3a134854%29%3B%0A%20%20%20%20%20%20%20%20%0A%20%20%20%20%0A%20%20%20%20%20%20%20%20var%20popup_69a9e13259ec409aa517bf50b5bd528f%20%3D%20L.popup%28%7B%22maxWidth%22%3A%20%22100%25%22%7D%29%3B%0A%0A%20%20%20%20%20%20%20%20%0A%20%20%20%20%20%20%20%20%20%20%20%20var%20html_b690169708364eddbab4bc546b3d90be%20%3D%20%24%28%60%3Cdiv%20id%3D%22html_b690169708364eddbab4bc546b3d90be%22%20style%3D%22width%3A%20100.0%25%3B%20height%3A%20100.0%25%3B%22%3E19809%3C/div%3E%60%29%5B0%5D%3B%0A%20%20%20%20%20%20%20%20%20%20%20%20popup_69a9e13259ec409aa517bf50b5bd528f.setContent%28html_b690169708364eddbab4bc546b3d90be%29%3B%0A%20%20%20%20%20%20%20%20%0A%0A%20%20%20%20%20%20%20%20circle_a861efddcd95451eab3d8d79e1886597.bindPopup%28popup_69a9e13259ec409aa517bf50b5bd528f%29%0A%20%20%20%20%20%20%20%20%3B%0A%0A%20%20%20%20%20%20%20%20%0A%20%20%20%20%0A%20%20%20%20%0A%20%20%20%20%20%20%20%20%20%20%20%20var%20circle_74d363a2ba434211a135b86f08ae00c7%20%3D%20L.circle%28%0A%20%20%20%20%20%20%20%20%20%20%20%20%20%20%20%20%5B39.817645%2C%20-75.50242%5D%2C%0A%20%20%20%20%20%20%20%20%20%20%20%20%20%20%20%20%7B%22bubblingMouseEvents%22%3A%20true%2C%20%22color%22%3A%20%22crimson%22%2C%20%22dashArray%22%3A%20null%2C%20%22dashOffset%22%3A%20null%2C%20%22fill%22%3A%20true%2C%20%22fillColor%22%3A%20%22crimson%22%2C%20%22fillOpacity%22%3A%200.2%2C%20%22fillRule%22%3A%20%22evenodd%22%2C%20%22lineCap%22%3A%20%22round%22%2C%20%22lineJoin%22%3A%20%22round%22%2C%20%22opacity%22%3A%201.0%2C%20%22radius%22%3A%203675.6%2C%20%22stroke%22%3A%20true%2C%20%22weight%22%3A%203%7D%0A%20%20%20%20%20%20%20%20%20%20%20%20%29.addTo%28map_eb35dd8b85da458dbd67899f3a134854%29%3B%0A%20%20%20%20%20%20%20%20%0A%20%20%20%20%0A%20%20%20%20%20%20%20%20var%20popup_db04f0b03af54a8bbfc01f3d317f0915%20%3D%20L.popup%28%7B%22maxWidth%22%3A%20%22100%25%22%7D%29%3B%0A%0A%20%20%20%20%20%20%20%20%0A%20%20%20%20%20%20%20%20%20%20%20%20var%20html_470bed5ac15d4ed7b00832b7d2b4d01f%20%3D%20%24%28%60%3Cdiv%20id%3D%22html_470bed5ac15d4ed7b00832b7d2b4d01f%22%20style%3D%22width%3A%20100.0%25%3B%20height%3A%20100.0%25%3B%22%3E19810%3C/div%3E%60%29%5B0%5D%3B%0A%20%20%20%20%20%20%20%20%20%20%20%20popup_db04f0b03af54a8bbfc01f3d317f0915.setContent%28html_470bed5ac15d4ed7b00832b7d2b4d01f%29%3B%0A%20%20%20%20%20%20%20%20%0A%0A%20%20%20%20%20%20%20%20circle_74d363a2ba434211a135b86f08ae00c7.bindPopup%28popup_db04f0b03af54a8bbfc01f3d317f0915%29%0A%20%20%20%20%20%20%20%20%3B%0A%0A%20%20%20%20%20%20%20%20%0A%20%20%20%20%0A%20%20%20%20%0A%20%20%20%20%20%20%20%20%20%20%20%20var%20circle_b2c5d2a2844d458da27048c9ae2e46b6%20%3D%20L.circle%28%0A%20%20%20%20%20%20%20%20%20%20%20%20%20%20%20%20%5B39.16426%2C%20-75.51163%5D%2C%0A%20%20%20%20%20%20%20%20%20%20%20%20%20%20%20%20%7B%22bubblingMouseEvents%22%3A%20true%2C%20%22color%22%3A%20%22crimson%22%2C%20%22dashArray%22%3A%20null%2C%20%22dashOffset%22%3A%20null%2C%20%22fill%22%3A%20true%2C%20%22fillColor%22%3A%20%22crimson%22%2C%20%22fillOpacity%22%3A%200.2%2C%20%22fillRule%22%3A%20%22evenodd%22%2C%20%22lineCap%22%3A%20%22round%22%2C%20%22lineJoin%22%3A%20%22round%22%2C%20%22opacity%22%3A%201.0%2C%20%22radius%22%3A%204387.5%2C%20%22stroke%22%3A%20true%2C%20%22weight%22%3A%203%7D%0A%20%20%20%20%20%20%20%20%20%20%20%20%29.addTo%28map_eb35dd8b85da458dbd67899f3a134854%29%3B%0A%20%20%20%20%20%20%20%20%0A%20%20%20%20%0A%20%20%20%20%20%20%20%20var%20popup_1000155f2ccc449bb110256805be3796%20%3D%20L.popup%28%7B%22maxWidth%22%3A%20%22100%25%22%7D%29%3B%0A%0A%20%20%20%20%20%20%20%20%0A%20%20%20%20%20%20%20%20%20%20%20%20var%20html_d06c850ecb3946a3a15e7873c2765f2e%20%3D%20%24%28%60%3Cdiv%20id%3D%22html_d06c850ecb3946a3a15e7873c2765f2e%22%20style%3D%22width%3A%20100.0%25%3B%20height%3A%20100.0%25%3B%22%3E19901%3C/div%3E%60%29%5B0%5D%3B%0A%20%20%20%20%20%20%20%20%20%20%20%20popup_1000155f2ccc449bb110256805be3796.setContent%28html_d06c850ecb3946a3a15e7873c2765f2e%29%3B%0A%20%20%20%20%20%20%20%20%0A%0A%20%20%20%20%20%20%20%20circle_b2c5d2a2844d458da27048c9ae2e46b6.bindPopup%28popup_1000155f2ccc449bb110256805be3796%29%0A%20%20%20%20%20%20%20%20%3B%0A%0A%20%20%20%20%20%20%20%20%0A%20%20%20%20%0A%20%20%20%20%0A%20%20%20%20%20%20%20%20%20%20%20%20var%20circle_da1eb96ef6964df39a46f4894b1daae2%20%3D%20L.circle%28%0A%20%20%20%20%20%20%20%20%20%20%20%20%20%20%20%20%5B39.161639%2C%20-75.5587%5D%2C%0A%20%20%20%20%20%20%20%20%20%20%20%20%20%20%20%20%7B%22bubblingMouseEvents%22%3A%20true%2C%20%22color%22%3A%20%22crimson%22%2C%20%22dashArray%22%3A%20null%2C%20%22dashOffset%22%3A%20null%2C%20%22fill%22%3A%20true%2C%20%22fillColor%22%3A%20%22crimson%22%2C%20%22fillOpacity%22%3A%200.2%2C%20%22fillRule%22%3A%20%22evenodd%22%2C%20%22lineCap%22%3A%20%22round%22%2C%20%22lineJoin%22%3A%20%22round%22%2C%20%22opacity%22%3A%201.0%2C%20%22radius%22%3A%205344.2%2C%20%22stroke%22%3A%20true%2C%20%22weight%22%3A%203%7D%0A%20%20%20%20%20%20%20%20%20%20%20%20%29.addTo%28map_eb35dd8b85da458dbd67899f3a134854%29%3B%0A%20%20%20%20%20%20%20%20%0A%20%20%20%20%0A%20%20%20%20%20%20%20%20var%20popup_ca5a476ea192426487066e735291fff8%20%3D%20L.popup%28%7B%22maxWidth%22%3A%20%22100%25%22%7D%29%3B%0A%0A%20%20%20%20%20%20%20%20%0A%20%20%20%20%20%20%20%20%20%20%20%20var%20html_c29a1246c8e442cc8a081c4f18eea7b3%20%3D%20%24%28%60%3Cdiv%20id%3D%22html_c29a1246c8e442cc8a081c4f18eea7b3%22%20style%3D%22width%3A%20100.0%25%3B%20height%3A%20100.0%25%3B%22%3E19904%3C/div%3E%60%29%5B0%5D%3B%0A%20%20%20%20%20%20%20%20%20%20%20%20popup_ca5a476ea192426487066e735291fff8.setContent%28html_c29a1246c8e442cc8a081c4f18eea7b3%29%3B%0A%20%20%20%20%20%20%20%20%0A%0A%20%20%20%20%20%20%20%20circle_da1eb96ef6964df39a46f4894b1daae2.bindPopup%28popup_ca5a476ea192426487066e735291fff8%29%0A%20%20%20%20%20%20%20%20%3B%0A%0A%20%20%20%20%20%20%20%20%0A%20%20%20%20%0A%20%20%20%20%0A%20%20%20%20%20%20%20%20%20%20%20%20var%20circle_3027bb24372246f8a30305ac549e3b2e%20%3D%20L.circle%28%0A%20%20%20%20%20%20%20%20%20%20%20%20%20%20%20%20%5B38.73635%2C%20-75.60807%5D%2C%0A%20%20%20%20%20%20%20%20%20%20%20%20%20%20%20%20%7B%22bubblingMouseEvents%22%3A%20true%2C%20%22color%22%3A%20%22crimson%22%2C%20%22dashArray%22%3A%20null%2C%20%22dashOffset%22%3A%20null%2C%20%22fill%22%3A%20true%2C%20%22fillColor%22%3A%20%22crimson%22%2C%20%22fillOpacity%22%3A%200.2%2C%20%22fillRule%22%3A%20%22evenodd%22%2C%20%22lineCap%22%3A%20%22round%22%2C%20%22lineJoin%22%3A%20%22round%22%2C%20%22opacity%22%3A%201.0%2C%20%22radius%22%3A%206219.0%2C%20%22stroke%22%3A%20true%2C%20%22weight%22%3A%203%7D%0A%20%20%20%20%20%20%20%20%20%20%20%20%29.addTo%28map_eb35dd8b85da458dbd67899f3a134854%29%3B%0A%20%20%20%20%20%20%20%20%0A%20%20%20%20%0A%20%20%20%20%20%20%20%20var%20popup_84b2d9af446340e78108c382ebc50965%20%3D%20L.popup%28%7B%22maxWidth%22%3A%20%22100%25%22%7D%29%3B%0A%0A%20%20%20%20%20%20%20%20%0A%20%20%20%20%20%20%20%20%20%20%20%20var%20html_afb98ed084e54037b1d461035377af46%20%3D%20%24%28%60%3Cdiv%20id%3D%22html_afb98ed084e54037b1d461035377af46%22%20style%3D%22width%3A%20100.0%25%3B%20height%3A%20100.0%25%3B%22%3E19933%3C/div%3E%60%29%5B0%5D%3B%0A%20%20%20%20%20%20%20%20%20%20%20%20popup_84b2d9af446340e78108c382ebc50965.setContent%28html_afb98ed084e54037b1d461035377af46%29%3B%0A%20%20%20%20%20%20%20%20%0A%0A%20%20%20%20%20%20%20%20circle_3027bb24372246f8a30305ac549e3b2e.bindPopup%28popup_84b2d9af446340e78108c382ebc50965%29%0A%20%20%20%20%20%20%20%20%3B%0A%0A%20%20%20%20%20%20%20%20%0A%20%20%20%20%0A%20%20%20%20%0A%20%20%20%20%20%20%20%20%20%20%20%20var%20circle_e7616ff2e73a4f8a8e66e6ec05805d6c%20%3D%20L.circle%28%0A%20%20%20%20%20%20%20%20%20%20%20%20%20%20%20%20%5B39.094699%2C%20-75.58871%5D%2C%0A%20%20%20%20%20%20%20%20%20%20%20%20%20%20%20%20%7B%22bubblingMouseEvents%22%3A%20true%2C%20%22color%22%3A%20%22crimson%22%2C%20%22dashArray%22%3A%20null%2C%20%22dashOffset%22%3A%20null%2C%20%22fill%22%3A%20true%2C%20%22fillColor%22%3A%20%22crimson%22%2C%20%22fillOpacity%22%3A%200.2%2C%20%22fillRule%22%3A%20%22evenodd%22%2C%20%22lineCap%22%3A%20%22round%22%2C%20%22lineJoin%22%3A%20%22round%22%2C%20%22opacity%22%3A%201.0%2C%20%22radius%22%3A%204069.7999999999997%2C%20%22stroke%22%3A%20true%2C%20%22weight%22%3A%203%7D%0A%20%20%20%20%20%20%20%20%20%20%20%20%29.addTo%28map_eb35dd8b85da458dbd67899f3a134854%29%3B%0A%20%20%20%20%20%20%20%20%0A%20%20%20%20%0A%20%20%20%20%20%20%20%20var%20popup_82fd3c395eee4df3b87bed9ed93b189d%20%3D%20L.popup%28%7B%22maxWidth%22%3A%20%22100%25%22%7D%29%3B%0A%0A%20%20%20%20%20%20%20%20%0A%20%20%20%20%20%20%20%20%20%20%20%20var%20html_8b67335db12d4f97a08be54c5fb07c1d%20%3D%20%24%28%60%3Cdiv%20id%3D%22html_8b67335db12d4f97a08be54c5fb07c1d%22%20style%3D%22width%3A%20100.0%25%3B%20height%3A%20100.0%25%3B%22%3E19934%3C/div%3E%60%29%5B0%5D%3B%0A%20%20%20%20%20%20%20%20%20%20%20%20popup_82fd3c395eee4df3b87bed9ed93b189d.setContent%28html_8b67335db12d4f97a08be54c5fb07c1d%29%3B%0A%20%20%20%20%20%20%20%20%0A%0A%20%20%20%20%20%20%20%20circle_e7616ff2e73a4f8a8e66e6ec05805d6c.bindPopup%28popup_82fd3c395eee4df3b87bed9ed93b189d%29%0A%20%20%20%20%20%20%20%20%3B%0A%0A%20%20%20%20%20%20%20%20%0A%20%20%20%20%0A%20%20%20%20%0A%20%20%20%20%20%20%20%20%20%20%20%20var%20circle_3b486d9c57d64514bacb6808d3aaa96d%20%3D%20L.circle%28%0A%20%20%20%20%20%20%20%20%20%20%20%20%20%20%20%20%5B39.265066%2C%20-75.6807%5D%2C%0A%20%20%20%20%20%20%20%20%20%20%20%20%20%20%20%20%7B%22bubblingMouseEvents%22%3A%20true%2C%20%22color%22%3A%20%22crimson%22%2C%20%22dashArray%22%3A%20null%2C%20%22dashOffset%22%3A%20null%2C%20%22fill%22%3A%20true%2C%20%22fillColor%22%3A%20%22crimson%22%2C%20%22fillOpacity%22%3A%200.2%2C%20%22fillRule%22%3A%20%22evenodd%22%2C%20%22lineCap%22%3A%20%22round%22%2C%20%22lineJoin%22%3A%20%22round%22%2C%20%22opacity%22%3A%201.0%2C%20%22radius%22%3A%205323.5%2C%20%22stroke%22%3A%20true%2C%20%22weight%22%3A%203%7D%0A%20%20%20%20%20%20%20%20%20%20%20%20%29.addTo%28map_eb35dd8b85da458dbd67899f3a134854%29%3B%0A%20%20%20%20%20%20%20%20%0A%20%20%20%20%0A%20%20%20%20%20%20%20%20var%20popup_2b4a86e33cd2467aa683d85474c85b1b%20%3D%20L.popup%28%7B%22maxWidth%22%3A%20%22100%25%22%7D%29%3B%0A%0A%20%20%20%20%20%20%20%20%0A%20%20%20%20%20%20%20%20%20%20%20%20var%20html_b41cf41cee6248bfa30df2946bdf43c2%20%3D%20%24%28%60%3Cdiv%20id%3D%22html_b41cf41cee6248bfa30df2946bdf43c2%22%20style%3D%22width%3A%20100.0%25%3B%20height%3A%20100.0%25%3B%22%3E19938%3C/div%3E%60%29%5B0%5D%3B%0A%20%20%20%20%20%20%20%20%20%20%20%20popup_2b4a86e33cd2467aa683d85474c85b1b.setContent%28html_b41cf41cee6248bfa30df2946bdf43c2%29%3B%0A%20%20%20%20%20%20%20%20%0A%0A%20%20%20%20%20%20%20%20circle_3b486d9c57d64514bacb6808d3aaa96d.bindPopup%28popup_2b4a86e33cd2467aa683d85474c85b1b%29%0A%20%20%20%20%20%20%20%20%3B%0A%0A%20%20%20%20%20%20%20%20%0A%20%20%20%20%0A%20%20%20%20%0A%20%20%20%20%20%20%20%20%20%20%20%20var%20circle_5165d99bf6e54c2a9a1fb7b06977fe28%20%3D%20L.circle%28%0A%20%20%20%20%20%20%20%20%20%20%20%20%20%20%20%20%5B38.557501%2C%20-75.21465%5D%2C%0A%20%20%20%20%20%20%20%20%20%20%20%20%20%20%20%20%7B%22bubblingMouseEvents%22%3A%20true%2C%20%22color%22%3A%20%22crimson%22%2C%20%22dashArray%22%3A%20null%2C%20%22dashOffset%22%3A%20null%2C%20%22fill%22%3A%20true%2C%20%22fillColor%22%3A%20%22crimson%22%2C%20%22fillOpacity%22%3A%200.2%2C%20%22fillRule%22%3A%20%22evenodd%22%2C%20%22lineCap%22%3A%20%22round%22%2C%20%22lineJoin%22%3A%20%22round%22%2C%20%22opacity%22%3A%201.0%2C%20%22radius%22%3A%204786.2%2C%20%22stroke%22%3A%20true%2C%20%22weight%22%3A%203%7D%0A%20%20%20%20%20%20%20%20%20%20%20%20%29.addTo%28map_eb35dd8b85da458dbd67899f3a134854%29%3B%0A%20%20%20%20%20%20%20%20%0A%20%20%20%20%0A%20%20%20%20%20%20%20%20var%20popup_67f77ad96d1c45eca2f29f7abb249953%20%3D%20L.popup%28%7B%22maxWidth%22%3A%20%22100%25%22%7D%29%3B%0A%0A%20%20%20%20%20%20%20%20%0A%20%20%20%20%20%20%20%20%20%20%20%20var%20html_9f478ff4082c41c8a83c6a72df996b64%20%3D%20%24%28%60%3Cdiv%20id%3D%22html_9f478ff4082c41c8a83c6a72df996b64%22%20style%3D%22width%3A%20100.0%25%3B%20height%3A%20100.0%25%3B%22%3E19939%3C/div%3E%60%29%5B0%5D%3B%0A%20%20%20%20%20%20%20%20%20%20%20%20popup_67f77ad96d1c45eca2f29f7abb249953.setContent%28html_9f478ff4082c41c8a83c6a72df996b64%29%3B%0A%20%20%20%20%20%20%20%20%0A%0A%20%20%20%20%20%20%20%20circle_5165d99bf6e54c2a9a1fb7b06977fe28.bindPopup%28popup_67f77ad96d1c45eca2f29f7abb249953%29%0A%20%20%20%20%20%20%20%20%3B%0A%0A%20%20%20%20%20%20%20%20%0A%20%20%20%20%0A%20%20%20%20%0A%20%20%20%20%20%20%20%20%20%20%20%20var%20circle_0e87e7e088094af8913e439f4e0feb0a%20%3D%20L.circle%28%0A%20%20%20%20%20%20%20%20%20%20%20%20%20%20%20%20%5B38.469655%2C%20-75.5669%5D%2C%0A%20%20%20%20%20%20%20%20%20%20%20%20%20%20%20%20%7B%22bubblingMouseEvents%22%3A%20true%2C%20%22color%22%3A%20%22crimson%22%2C%20%22dashArray%22%3A%20null%2C%20%22dashOffset%22%3A%20null%2C%20%22fill%22%3A%20true%2C%20%22fillColor%22%3A%20%22crimson%22%2C%20%22fillOpacity%22%3A%200.2%2C%20%22fillRule%22%3A%20%22evenodd%22%2C%20%22lineCap%22%3A%20%22round%22%2C%20%22lineJoin%22%3A%20%22round%22%2C%20%22opacity%22%3A%201.0%2C%20%22radius%22%3A%206597.900000000001%2C%20%22stroke%22%3A%20true%2C%20%22weight%22%3A%203%7D%0A%20%20%20%20%20%20%20%20%20%20%20%20%29.addTo%28map_eb35dd8b85da458dbd67899f3a134854%29%3B%0A%20%20%20%20%20%20%20%20%0A%20%20%20%20%0A%20%20%20%20%20%20%20%20var%20popup_b0d50faa6f444fa689c6c34a9f07a91b%20%3D%20L.popup%28%7B%22maxWidth%22%3A%20%22100%25%22%7D%29%3B%0A%0A%20%20%20%20%20%20%20%20%0A%20%20%20%20%20%20%20%20%20%20%20%20var%20html_7ee070ee9bbb461fb4e6b602e74a6b60%20%3D%20%24%28%60%3Cdiv%20id%3D%22html_7ee070ee9bbb461fb4e6b602e74a6b60%22%20style%3D%22width%3A%20100.0%25%3B%20height%3A%20100.0%25%3B%22%3E19940%3C/div%3E%60%29%5B0%5D%3B%0A%20%20%20%20%20%20%20%20%20%20%20%20popup_b0d50faa6f444fa689c6c34a9f07a91b.setContent%28html_7ee070ee9bbb461fb4e6b602e74a6b60%29%3B%0A%20%20%20%20%20%20%20%20%0A%0A%20%20%20%20%20%20%20%20circle_0e87e7e088094af8913e439f4e0feb0a.bindPopup%28popup_b0d50faa6f444fa689c6c34a9f07a91b%29%0A%20%20%20%20%20%20%20%20%3B%0A%0A%20%20%20%20%20%20%20%20%0A%20%20%20%20%0A%20%20%20%20%0A%20%20%20%20%20%20%20%20%20%20%20%20var%20circle_1dafd80c4e6f4890aa763861453b6847%20%3D%20L.circle%28%0A%20%20%20%20%20%20%20%20%20%20%20%20%20%20%20%20%5B38.80136%2C%20-75.42595%5D%2C%0A%20%20%20%20%20%20%20%20%20%20%20%20%20%20%20%20%7B%22bubblingMouseEvents%22%3A%20true%2C%20%22color%22%3A%20%22crimson%22%2C%20%22dashArray%22%3A%20null%2C%20%22dashOffset%22%3A%20null%2C%20%22fill%22%3A%20true%2C%20%22fillColor%22%3A%20%22crimson%22%2C%20%22fillOpacity%22%3A%200.2%2C%20%22fillRule%22%3A%20%22evenodd%22%2C%20%22lineCap%22%3A%20%22round%22%2C%20%22lineJoin%22%3A%20%22round%22%2C%20%22opacity%22%3A%201.0%2C%20%22radius%22%3A%206782.400000000001%2C%20%22stroke%22%3A%20true%2C%20%22weight%22%3A%203%7D%0A%20%20%20%20%20%20%20%20%20%20%20%20%29.addTo%28map_eb35dd8b85da458dbd67899f3a134854%29%3B%0A%20%20%20%20%20%20%20%20%0A%20%20%20%20%0A%20%20%20%20%20%20%20%20var%20popup_73d9d70a1e4c4d1ab678a4ffa13d6c5d%20%3D%20L.popup%28%7B%22maxWidth%22%3A%20%22100%25%22%7D%29%3B%0A%0A%20%20%20%20%20%20%20%20%0A%20%20%20%20%20%20%20%20%20%20%20%20var%20html_a720fe5e72a14714bddc51c3094ca081%20%3D%20%24%28%60%3Cdiv%20id%3D%22html_a720fe5e72a14714bddc51c3094ca081%22%20style%3D%22width%3A%20100.0%25%3B%20height%3A%20100.0%25%3B%22%3E19941%3C/div%3E%60%29%5B0%5D%3B%0A%20%20%20%20%20%20%20%20%20%20%20%20popup_73d9d70a1e4c4d1ab678a4ffa13d6c5d.setContent%28html_a720fe5e72a14714bddc51c3094ca081%29%3B%0A%20%20%20%20%20%20%20%20%0A%0A%20%20%20%20%20%20%20%20circle_1dafd80c4e6f4890aa763861453b6847.bindPopup%28popup_73d9d70a1e4c4d1ab678a4ffa13d6c5d%29%0A%20%20%20%20%20%20%20%20%3B%0A%0A%20%20%20%20%20%20%20%20%0A%20%20%20%20%0A%20%20%20%20%0A%20%20%20%20%20%20%20%20%20%20%20%20var%20circle_7812dc4150f2462ab07c36427979bfc1%20%3D%20L.circle%28%0A%20%20%20%20%20%20%20%20%20%20%20%20%20%20%20%20%5B39.011387%2C%20-75.58978%5D%2C%0A%20%20%20%20%20%20%20%20%20%20%20%20%20%20%20%20%7B%22bubblingMouseEvents%22%3A%20true%2C%20%22color%22%3A%20%22crimson%22%2C%20%22dashArray%22%3A%20null%2C%20%22dashOffset%22%3A%20null%2C%20%22fill%22%3A%20true%2C%20%22fillColor%22%3A%20%22crimson%22%2C%20%22fillOpacity%22%3A%200.2%2C%20%22fillRule%22%3A%20%22evenodd%22%2C%20%22lineCap%22%3A%20%22round%22%2C%20%22lineJoin%22%3A%20%22round%22%2C%20%22opacity%22%3A%201.0%2C%20%22radius%22%3A%204410.900000000001%2C%20%22stroke%22%3A%20true%2C%20%22weight%22%3A%203%7D%0A%20%20%20%20%20%20%20%20%20%20%20%20%29.addTo%28map_eb35dd8b85da458dbd67899f3a134854%29%3B%0A%20%20%20%20%20%20%20%20%0A%20%20%20%20%0A%20%20%20%20%20%20%20%20var%20popup_0544cebd8b7241d9944706dc953b6a82%20%3D%20L.popup%28%7B%22maxWidth%22%3A%20%22100%25%22%7D%29%3B%0A%0A%20%20%20%20%20%20%20%20%0A%20%20%20%20%20%20%20%20%20%20%20%20var%20html_2d9a78e6ffc74465830fec200e02d8ce%20%3D%20%24%28%60%3Cdiv%20id%3D%22html_2d9a78e6ffc74465830fec200e02d8ce%22%20style%3D%22width%3A%20100.0%25%3B%20height%3A%20100.0%25%3B%22%3E19943%3C/div%3E%60%29%5B0%5D%3B%0A%20%20%20%20%20%20%20%20%20%20%20%20popup_0544cebd8b7241d9944706dc953b6a82.setContent%28html_2d9a78e6ffc74465830fec200e02d8ce%29%3B%0A%20%20%20%20%20%20%20%20%0A%0A%20%20%20%20%20%20%20%20circle_7812dc4150f2462ab07c36427979bfc1.bindPopup%28popup_0544cebd8b7241d9944706dc953b6a82%29%0A%20%20%20%20%20%20%20%20%3B%0A%0A%20%20%20%20%20%20%20%20%0A%20%20%20%20%0A%20%20%20%20%0A%20%20%20%20%20%20%20%20%20%20%20%20var%20circle_6ffbcf288bed4d24af1424c862247bf7%20%3D%20L.circle%28%0A%20%20%20%20%20%20%20%20%20%20%20%20%20%20%20%20%5B38.511469%2C%20-75.18364%5D%2C%0A%20%20%20%20%20%20%20%20%20%20%20%20%20%20%20%20%7B%22bubblingMouseEvents%22%3A%20true%2C%20%22color%22%3A%20%22crimson%22%2C%20%22dashArray%22%3A%20null%2C%20%22dashOffset%22%3A%20null%2C%20%22fill%22%3A%20true%2C%20%22fillColor%22%3A%20%22crimson%22%2C%20%22fillOpacity%22%3A%200.2%2C%20%22fillRule%22%3A%20%22evenodd%22%2C%20%22lineCap%22%3A%20%22round%22%2C%20%22lineJoin%22%3A%20%22round%22%2C%20%22opacity%22%3A%201.0%2C%20%22radius%22%3A%206732.900000000001%2C%20%22stroke%22%3A%20true%2C%20%22weight%22%3A%203%7D%0A%20%20%20%20%20%20%20%20%20%20%20%20%29.addTo%28map_eb35dd8b85da458dbd67899f3a134854%29%3B%0A%20%20%20%20%20%20%20%20%0A%20%20%20%20%0A%20%20%20%20%20%20%20%20var%20popup_81b7ed29aa21406b82a83ceeccae2d48%20%3D%20L.popup%28%7B%22maxWidth%22%3A%20%22100%25%22%7D%29%3B%0A%0A%20%20%20%20%20%20%20%20%0A%20%20%20%20%20%20%20%20%20%20%20%20var%20html_c9692d249c6b465a922670dc6614a6dd%20%3D%20%24%28%60%3Cdiv%20id%3D%22html_c9692d249c6b465a922670dc6614a6dd%22%20style%3D%22width%3A%20100.0%25%3B%20height%3A%20100.0%25%3B%22%3E19945%3C/div%3E%60%29%5B0%5D%3B%0A%20%20%20%20%20%20%20%20%20%20%20%20popup_81b7ed29aa21406b82a83ceeccae2d48.setContent%28html_c9692d249c6b465a922670dc6614a6dd%29%3B%0A%20%20%20%20%20%20%20%20%0A%0A%20%20%20%20%20%20%20%20circle_6ffbcf288bed4d24af1424c862247bf7.bindPopup%28popup_81b7ed29aa21406b82a83ceeccae2d48%29%0A%20%20%20%20%20%20%20%20%3B%0A%0A%20%20%20%20%20%20%20%20%0A%20%20%20%20%0A%20%20%20%20%0A%20%20%20%20%20%20%20%20%20%20%20%20var%20circle_7b97e0028e4e4ee887d640456bb179e8%20%3D%20L.circle%28%0A%20%20%20%20%20%20%20%20%20%20%20%20%20%20%20%20%5B39.037803%2C%20-75.46634%5D%2C%0A%20%20%20%20%20%20%20%20%20%20%20%20%20%20%20%20%7B%22bubblingMouseEvents%22%3A%20true%2C%20%22color%22%3A%20%22crimson%22%2C%20%22dashArray%22%3A%20null%2C%20%22dashOffset%22%3A%20null%2C%20%22fill%22%3A%20true%2C%20%22fillColor%22%3A%20%22crimson%22%2C%20%22fillOpacity%22%3A%200.2%2C%20%22fillRule%22%3A%20%22evenodd%22%2C%20%22lineCap%22%3A%20%22round%22%2C%20%22lineJoin%22%3A%20%22round%22%2C%20%22opacity%22%3A%201.0%2C%20%22radius%22%3A%204865.400000000001%2C%20%22stroke%22%3A%20true%2C%20%22weight%22%3A%203%7D%0A%20%20%20%20%20%20%20%20%20%20%20%20%29.addTo%28map_eb35dd8b85da458dbd67899f3a134854%29%3B%0A%20%20%20%20%20%20%20%20%0A%20%20%20%20%0A%20%20%20%20%20%20%20%20var%20popup_b00e7f0f3e3b4febb8dac1add9d40542%20%3D%20L.popup%28%7B%22maxWidth%22%3A%20%22100%25%22%7D%29%3B%0A%0A%20%20%20%20%20%20%20%20%0A%20%20%20%20%20%20%20%20%20%20%20%20var%20html_f2cafa619978480e856037b0e3d09901%20%3D%20%24%28%60%3Cdiv%20id%3D%22html_f2cafa619978480e856037b0e3d09901%22%20style%3D%22width%3A%20100.0%25%3B%20height%3A%20100.0%25%3B%22%3E19946%3C/div%3E%60%29%5B0%5D%3B%0A%20%20%20%20%20%20%20%20%20%20%20%20popup_b00e7f0f3e3b4febb8dac1add9d40542.setContent%28html_f2cafa619978480e856037b0e3d09901%29%3B%0A%20%20%20%20%20%20%20%20%0A%0A%20%20%20%20%20%20%20%20circle_7b97e0028e4e4ee887d640456bb179e8.bindPopup%28popup_b00e7f0f3e3b4febb8dac1add9d40542%29%0A%20%20%20%20%20%20%20%20%3B%0A%0A%20%20%20%20%20%20%20%20%0A%20%20%20%20%0A%20%20%20%20%0A%20%20%20%20%20%20%20%20%20%20%20%20var%20circle_4c58f6682f034a94859751ad9d6c3ba3%20%3D%20L.circle%28%0A%20%20%20%20%20%20%20%20%20%20%20%20%20%20%20%20%5B38.676552%2C%20-75.39269%5D%2C%0A%20%20%20%20%20%20%20%20%20%20%20%20%20%20%20%20%7B%22bubblingMouseEvents%22%3A%20true%2C%20%22color%22%3A%20%22crimson%22%2C%20%22dashArray%22%3A%20null%2C%20%22dashOffset%22%3A%20null%2C%20%22fill%22%3A%20true%2C%20%22fillColor%22%3A%20%22crimson%22%2C%20%22fillOpacity%22%3A%200.2%2C%20%22fillRule%22%3A%20%22evenodd%22%2C%20%22lineCap%22%3A%20%22round%22%2C%20%22lineJoin%22%3A%20%22round%22%2C%20%22opacity%22%3A%201.0%2C%20%22radius%22%3A%2010576.800000000001%2C%20%22stroke%22%3A%20true%2C%20%22weight%22%3A%203%7D%0A%20%20%20%20%20%20%20%20%20%20%20%20%29.addTo%28map_eb35dd8b85da458dbd67899f3a134854%29%3B%0A%20%20%20%20%20%20%20%20%0A%20%20%20%20%0A%20%20%20%20%20%20%20%20var%20popup_549a4af12c30477dac91851e76130300%20%3D%20L.popup%28%7B%22maxWidth%22%3A%20%22100%25%22%7D%29%3B%0A%0A%20%20%20%20%20%20%20%20%0A%20%20%20%20%20%20%20%20%20%20%20%20var%20html_a4df4a1807534787921ea9feee123d44%20%3D%20%24%28%60%3Cdiv%20id%3D%22html_a4df4a1807534787921ea9feee123d44%22%20style%3D%22width%3A%20100.0%25%3B%20height%3A%20100.0%25%3B%22%3E19947%3C/div%3E%60%29%5B0%5D%3B%0A%20%20%20%20%20%20%20%20%20%20%20%20popup_549a4af12c30477dac91851e76130300.setContent%28html_a4df4a1807534787921ea9feee123d44%29%3B%0A%20%20%20%20%20%20%20%20%0A%0A%20%20%20%20%20%20%20%20circle_4c58f6682f034a94859751ad9d6c3ba3.bindPopup%28popup_549a4af12c30477dac91851e76130300%29%0A%20%20%20%20%20%20%20%20%3B%0A%0A%20%20%20%20%20%20%20%20%0A%20%20%20%20%0A%20%20%20%20%0A%20%20%20%20%20%20%20%20%20%20%20%20var%20circle_51338d0b6a8f48ceaceb782d87671f0b%20%3D%20L.circle%28%0A%20%20%20%20%20%20%20%20%20%20%20%20%20%20%20%20%5B38.818541%2C%20-75.60966%5D%2C%0A%20%20%20%20%20%20%20%20%20%20%20%20%20%20%20%20%7B%22bubblingMouseEvents%22%3A%20true%2C%20%22color%22%3A%20%22crimson%22%2C%20%22dashArray%22%3A%20null%2C%20%22dashOffset%22%3A%20null%2C%20%22fill%22%3A%20true%2C%20%22fillColor%22%3A%20%22crimson%22%2C%20%22fillOpacity%22%3A%200.2%2C%20%22fillRule%22%3A%20%22evenodd%22%2C%20%22lineCap%22%3A%20%22round%22%2C%20%22lineJoin%22%3A%20%22round%22%2C%20%22opacity%22%3A%201.0%2C%20%22radius%22%3A%205317.2%2C%20%22stroke%22%3A%20true%2C%20%22weight%22%3A%203%7D%0A%20%20%20%20%20%20%20%20%20%20%20%20%29.addTo%28map_eb35dd8b85da458dbd67899f3a134854%29%3B%0A%20%20%20%20%20%20%20%20%0A%20%20%20%20%0A%20%20%20%20%20%20%20%20var%20popup_4a85286c26cd46cd82d02a18f3041677%20%3D%20L.popup%28%7B%22maxWidth%22%3A%20%22100%25%22%7D%29%3B%0A%0A%20%20%20%20%20%20%20%20%0A%20%20%20%20%20%20%20%20%20%20%20%20var%20html_cefcec10f83e4feeb9585f9a8d702984%20%3D%20%24%28%60%3Cdiv%20id%3D%22html_cefcec10f83e4feeb9585f9a8d702984%22%20style%3D%22width%3A%20100.0%25%3B%20height%3A%20100.0%25%3B%22%3E19950%3C/div%3E%60%29%5B0%5D%3B%0A%20%20%20%20%20%20%20%20%20%20%20%20popup_4a85286c26cd46cd82d02a18f3041677.setContent%28html_cefcec10f83e4feeb9585f9a8d702984%29%3B%0A%20%20%20%20%20%20%20%20%0A%0A%20%20%20%20%20%20%20%20circle_51338d0b6a8f48ceaceb782d87671f0b.bindPopup%28popup_4a85286c26cd46cd82d02a18f3041677%29%0A%20%20%20%20%20%20%20%20%3B%0A%0A%20%20%20%20%20%20%20%20%0A%20%20%20%20%0A%20%20%20%20%0A%20%20%20%20%20%20%20%20%20%20%20%20var%20circle_439a10c6b47d4500b01d6d1b0c5ad85e%20%3D%20L.circle%28%0A%20%20%20%20%20%20%20%20%20%20%20%20%20%20%20%20%5B38.916908%2C%20-75.61343%5D%2C%0A%20%20%20%20%20%20%20%20%20%20%20%20%20%20%20%20%7B%22bubblingMouseEvents%22%3A%20true%2C%20%22color%22%3A%20%22crimson%22%2C%20%22dashArray%22%3A%20null%2C%20%22dashOffset%22%3A%20null%2C%20%22fill%22%3A%20true%2C%20%22fillColor%22%3A%20%22crimson%22%2C%20%22fillOpacity%22%3A%200.2%2C%20%22fillRule%22%3A%20%22evenodd%22%2C%20%22lineCap%22%3A%20%22round%22%2C%20%22lineJoin%22%3A%20%22round%22%2C%20%22opacity%22%3A%201.0%2C%20%22radius%22%3A%204199.400000000001%2C%20%22stroke%22%3A%20true%2C%20%22weight%22%3A%203%7D%0A%20%20%20%20%20%20%20%20%20%20%20%20%29.addTo%28map_eb35dd8b85da458dbd67899f3a134854%29%3B%0A%20%20%20%20%20%20%20%20%0A%20%20%20%20%0A%20%20%20%20%20%20%20%20var%20popup_b1250cfcbfb74342a41707cb5a010f3d%20%3D%20L.popup%28%7B%22maxWidth%22%3A%20%22100%25%22%7D%29%3B%0A%0A%20%20%20%20%20%20%20%20%0A%20%20%20%20%20%20%20%20%20%20%20%20var%20html_ca8c96179110462ab9c89246b8c06ca4%20%3D%20%24%28%60%3Cdiv%20id%3D%22html_ca8c96179110462ab9c89246b8c06ca4%22%20style%3D%22width%3A%20100.0%25%3B%20height%3A%20100.0%25%3B%22%3E19952%3C/div%3E%60%29%5B0%5D%3B%0A%20%20%20%20%20%20%20%20%20%20%20%20popup_b1250cfcbfb74342a41707cb5a010f3d.setContent%28html_ca8c96179110462ab9c89246b8c06ca4%29%3B%0A%20%20%20%20%20%20%20%20%0A%0A%20%20%20%20%20%20%20%20circle_439a10c6b47d4500b01d6d1b0c5ad85e.bindPopup%28popup_b1250cfcbfb74342a41707cb5a010f3d%29%0A%20%20%20%20%20%20%20%20%3B%0A%0A%20%20%20%20%20%20%20%20%0A%20%20%20%20%0A%20%20%20%20%0A%20%20%20%20%20%20%20%20%20%20%20%20var%20circle_27ff0e31122e4952a3eca1785f8f30d2%20%3D%20L.circle%28%0A%20%20%20%20%20%20%20%20%20%20%20%20%20%20%20%20%5B39.150822%2C%20-75.70428%5D%2C%0A%20%20%20%20%20%20%20%20%20%20%20%20%20%20%20%20%7B%22bubblingMouseEvents%22%3A%20true%2C%20%22color%22%3A%20%22crimson%22%2C%20%22dashArray%22%3A%20null%2C%20%22dashOffset%22%3A%20null%2C%20%22fill%22%3A%20true%2C%20%22fillColor%22%3A%20%22crimson%22%2C%20%22fillOpacity%22%3A%200.2%2C%20%22fillRule%22%3A%20%22evenodd%22%2C%20%22lineCap%22%3A%20%22round%22%2C%20%22lineJoin%22%3A%20%22round%22%2C%20%22opacity%22%3A%201.0%2C%20%22radius%22%3A%204412.7%2C%20%22stroke%22%3A%20true%2C%20%22weight%22%3A%203%7D%0A%20%20%20%20%20%20%20%20%20%20%20%20%29.addTo%28map_eb35dd8b85da458dbd67899f3a134854%29%3B%0A%20%20%20%20%20%20%20%20%0A%20%20%20%20%0A%20%20%20%20%20%20%20%20var%20popup_9596168f2b6c421bae60a3f5ab1d1609%20%3D%20L.popup%28%7B%22maxWidth%22%3A%20%22100%25%22%7D%29%3B%0A%0A%20%20%20%20%20%20%20%20%0A%20%20%20%20%20%20%20%20%20%20%20%20var%20html_e1f45db0c54b4ec193c1881a2296ade5%20%3D%20%24%28%60%3Cdiv%20id%3D%22html_e1f45db0c54b4ec193c1881a2296ade5%22%20style%3D%22width%3A%20100.0%25%3B%20height%3A%20100.0%25%3B%22%3E19953%3C/div%3E%60%29%5B0%5D%3B%0A%20%20%20%20%20%20%20%20%20%20%20%20popup_9596168f2b6c421bae60a3f5ab1d1609.setContent%28html_e1f45db0c54b4ec193c1881a2296ade5%29%3B%0A%20%20%20%20%20%20%20%20%0A%0A%20%20%20%20%20%20%20%20circle_27ff0e31122e4952a3eca1785f8f30d2.bindPopup%28popup_9596168f2b6c421bae60a3f5ab1d1609%29%0A%20%20%20%20%20%20%20%20%3B%0A%0A%20%20%20%20%20%20%20%20%0A%20%20%20%20%0A%20%20%20%20%0A%20%20%20%20%20%20%20%20%20%20%20%20var%20circle_03af891bcada4fffadfc6fc75e5ecdd7%20%3D%20L.circle%28%0A%20%20%20%20%20%20%20%20%20%20%20%20%20%20%20%20%5B38.549721%2C%20-75.55304%5D%2C%0A%20%20%20%20%20%20%20%20%20%20%20%20%20%20%20%20%7B%22bubblingMouseEvents%22%3A%20true%2C%20%22color%22%3A%20%22crimson%22%2C%20%22dashArray%22%3A%20null%2C%20%22dashOffset%22%3A%20null%2C%20%22fill%22%3A%20true%2C%20%22fillColor%22%3A%20%22crimson%22%2C%20%22fillOpacity%22%3A%200.2%2C%20%22fillRule%22%3A%20%22evenodd%22%2C%20%22lineCap%22%3A%20%22round%22%2C%20%22lineJoin%22%3A%20%22round%22%2C%20%22opacity%22%3A%201.0%2C%20%22radius%22%3A%206778.8%2C%20%22stroke%22%3A%20true%2C%20%22weight%22%3A%203%7D%0A%20%20%20%20%20%20%20%20%20%20%20%20%29.addTo%28map_eb35dd8b85da458dbd67899f3a134854%29%3B%0A%20%20%20%20%20%20%20%20%0A%20%20%20%20%0A%20%20%20%20%20%20%20%20var%20popup_a3e182cdcf42416d8ac2d47554a3783c%20%3D%20L.popup%28%7B%22maxWidth%22%3A%20%22100%25%22%7D%29%3B%0A%0A%20%20%20%20%20%20%20%20%0A%20%20%20%20%20%20%20%20%20%20%20%20var%20html_05ff7a8896534ee398397cc8196b6ce9%20%3D%20%24%28%60%3Cdiv%20id%3D%22html_05ff7a8896534ee398397cc8196b6ce9%22%20style%3D%22width%3A%20100.0%25%3B%20height%3A%20100.0%25%3B%22%3E19956%3C/div%3E%60%29%5B0%5D%3B%0A%20%20%20%20%20%20%20%20%20%20%20%20popup_a3e182cdcf42416d8ac2d47554a3783c.setContent%28html_05ff7a8896534ee398397cc8196b6ce9%29%3B%0A%20%20%20%20%20%20%20%20%0A%0A%20%20%20%20%20%20%20%20circle_03af891bcada4fffadfc6fc75e5ecdd7.bindPopup%28popup_a3e182cdcf42416d8ac2d47554a3783c%29%0A%20%20%20%20%20%20%20%20%3B%0A%0A%20%20%20%20%20%20%20%20%0A%20%20%20%20%0A%20%20%20%20%0A%20%20%20%20%20%20%20%20%20%20%20%20var%20circle_0fc4f730e6c94810a7a56097e747d9a0%20%3D%20L.circle%28%0A%20%20%20%20%20%20%20%20%20%20%20%20%20%20%20%20%5B38.746207%2C%20-75.16282%5D%2C%0A%20%20%20%20%20%20%20%20%20%20%20%20%20%20%20%20%7B%22bubblingMouseEvents%22%3A%20true%2C%20%22color%22%3A%20%22crimson%22%2C%20%22dashArray%22%3A%20null%2C%20%22dashOffset%22%3A%20null%2C%20%22fill%22%3A%20true%2C%20%22fillColor%22%3A%20%22crimson%22%2C%20%22fillOpacity%22%3A%200.2%2C%20%22fillRule%22%3A%20%22evenodd%22%2C%20%22lineCap%22%3A%20%22round%22%2C%20%22lineJoin%22%3A%20%22round%22%2C%20%22opacity%22%3A%201.0%2C%20%22radius%22%3A%205074.2%2C%20%22stroke%22%3A%20true%2C%20%22weight%22%3A%203%7D%0A%20%20%20%20%20%20%20%20%20%20%20%20%29.addTo%28map_eb35dd8b85da458dbd67899f3a134854%29%3B%0A%20%20%20%20%20%20%20%20%0A%20%20%20%20%0A%20%20%20%20%20%20%20%20var%20popup_26d431af6b3f48bf8a6aa570437e75d7%20%3D%20L.popup%28%7B%22maxWidth%22%3A%20%22100%25%22%7D%29%3B%0A%0A%20%20%20%20%20%20%20%20%0A%20%20%20%20%20%20%20%20%20%20%20%20var%20html_07ca95e9f7174bf59c9490a68a3d7f0e%20%3D%20%24%28%60%3Cdiv%20id%3D%22html_07ca95e9f7174bf59c9490a68a3d7f0e%22%20style%3D%22width%3A%20100.0%25%3B%20height%3A%20100.0%25%3B%22%3E19958%3C/div%3E%60%29%5B0%5D%3B%0A%20%20%20%20%20%20%20%20%20%20%20%20popup_26d431af6b3f48bf8a6aa570437e75d7.setContent%28html_07ca95e9f7174bf59c9490a68a3d7f0e%29%3B%0A%20%20%20%20%20%20%20%20%0A%0A%20%20%20%20%20%20%20%20circle_0fc4f730e6c94810a7a56097e747d9a0.bindPopup%28popup_26d431af6b3f48bf8a6aa570437e75d7%29%0A%20%20%20%20%20%20%20%20%3B%0A%0A%20%20%20%20%20%20%20%20%0A%20%20%20%20%0A%20%20%20%20%0A%20%20%20%20%20%20%20%20%20%20%20%20var%20circle_7caf56c2f6e241b9b9984dcc21983729%20%3D%20L.circle%28%0A%20%20%20%20%20%20%20%20%20%20%20%20%20%20%20%20%5B38.855872%2C%20-75.39889%5D%2C%0A%20%20%20%20%20%20%20%20%20%20%20%20%20%20%20%20%7B%22bubblingMouseEvents%22%3A%20true%2C%20%22color%22%3A%20%22crimson%22%2C%20%22dashArray%22%3A%20null%2C%20%22dashOffset%22%3A%20null%2C%20%22fill%22%3A%20true%2C%20%22fillColor%22%3A%20%22crimson%22%2C%20%22fillOpacity%22%3A%200.2%2C%20%22fillRule%22%3A%20%22evenodd%22%2C%20%22lineCap%22%3A%20%22round%22%2C%20%22lineJoin%22%3A%20%22round%22%2C%20%22opacity%22%3A%201.0%2C%20%22radius%22%3A%207478.099999999999%2C%20%22stroke%22%3A%20true%2C%20%22weight%22%3A%203%7D%0A%20%20%20%20%20%20%20%20%20%20%20%20%29.addTo%28map_eb35dd8b85da458dbd67899f3a134854%29%3B%0A%20%20%20%20%20%20%20%20%0A%20%20%20%20%0A%20%20%20%20%20%20%20%20var%20popup_20fcd543fef84b168b02ea141bc158d0%20%3D%20L.popup%28%7B%22maxWidth%22%3A%20%22100%25%22%7D%29%3B%0A%0A%20%20%20%20%20%20%20%20%0A%20%20%20%20%20%20%20%20%20%20%20%20var%20html_2470c2e92dff4350916baff2a985d52a%20%3D%20%24%28%60%3Cdiv%20id%3D%22html_2470c2e92dff4350916baff2a985d52a%22%20style%3D%22width%3A%20100.0%25%3B%20height%3A%20100.0%25%3B%22%3E19960%3C/div%3E%60%29%5B0%5D%3B%0A%20%20%20%20%20%20%20%20%20%20%20%20popup_20fcd543fef84b168b02ea141bc158d0.setContent%28html_2470c2e92dff4350916baff2a985d52a%29%3B%0A%20%20%20%20%20%20%20%20%0A%0A%20%20%20%20%20%20%20%20circle_7caf56c2f6e241b9b9984dcc21983729.bindPopup%28popup_20fcd543fef84b168b02ea141bc158d0%29%0A%20%20%20%20%20%20%20%20%3B%0A%0A%20%20%20%20%20%20%20%20%0A%20%20%20%20%0A%20%20%20%20%0A%20%20%20%20%20%20%20%20%20%20%20%20var%20circle_de1afb6efa4a4552a636d6ba0745b869%20%3D%20L.circle%28%0A%20%20%20%20%20%20%20%20%20%20%20%20%20%20%20%20%5B39.06517%2C%20-75.49858%5D%2C%0A%20%20%20%20%20%20%20%20%20%20%20%20%20%20%20%20%7B%22bubblingMouseEvents%22%3A%20true%2C%20%22color%22%3A%20%22crimson%22%2C%20%22dashArray%22%3A%20null%2C%20%22dashOffset%22%3A%20null%2C%20%22fill%22%3A%20true%2C%20%22fillColor%22%3A%20%22crimson%22%2C%20%22fillOpacity%22%3A%200.2%2C%20%22fillRule%22%3A%20%22evenodd%22%2C%20%22lineCap%22%3A%20%22round%22%2C%20%22lineJoin%22%3A%20%22round%22%2C%20%22opacity%22%3A%201.0%2C%20%22radius%22%3A%204911.3%2C%20%22stroke%22%3A%20true%2C%20%22weight%22%3A%203%7D%0A%20%20%20%20%20%20%20%20%20%20%20%20%29.addTo%28map_eb35dd8b85da458dbd67899f3a134854%29%3B%0A%20%20%20%20%20%20%20%20%0A%20%20%20%20%0A%20%20%20%20%20%20%20%20var%20popup_562a6b0f65db43858e86846559917b78%20%3D%20L.popup%28%7B%22maxWidth%22%3A%20%22100%25%22%7D%29%3B%0A%0A%20%20%20%20%20%20%20%20%0A%20%20%20%20%20%20%20%20%20%20%20%20var%20html_f021cc6a68014f30b827ba2ff261fc24%20%3D%20%24%28%60%3Cdiv%20id%3D%22html_f021cc6a68014f30b827ba2ff261fc24%22%20style%3D%22width%3A%20100.0%25%3B%20height%3A%20100.0%25%3B%22%3E19962%3C/div%3E%60%29%5B0%5D%3B%0A%20%20%20%20%20%20%20%20%20%20%20%20popup_562a6b0f65db43858e86846559917b78.setContent%28html_f021cc6a68014f30b827ba2ff261fc24%29%3B%0A%20%20%20%20%20%20%20%20%0A%0A%20%20%20%20%20%20%20%20circle_de1afb6efa4a4552a636d6ba0745b869.bindPopup%28popup_562a6b0f65db43858e86846559917b78%29%0A%20%20%20%20%20%20%20%20%3B%0A%0A%20%20%20%20%20%20%20%20%0A%20%20%20%20%0A%20%20%20%20%0A%20%20%20%20%20%20%20%20%20%20%20%20var%20circle_75e3890206f44c8f8792ff0376679e51%20%3D%20L.circle%28%0A%20%20%20%20%20%20%20%20%20%20%20%20%20%20%20%20%5B38.922806%2C%20-75.41449%5D%2C%0A%20%20%20%20%20%20%20%20%20%20%20%20%20%20%20%20%7B%22bubblingMouseEvents%22%3A%20true%2C%20%22color%22%3A%20%22crimson%22%2C%20%22dashArray%22%3A%20null%2C%20%22dashOffset%22%3A%20null%2C%20%22fill%22%3A%20true%2C%20%22fillColor%22%3A%20%22crimson%22%2C%20%22fillOpacity%22%3A%200.2%2C%20%22fillRule%22%3A%20%22evenodd%22%2C%20%22lineCap%22%3A%20%22round%22%2C%20%22lineJoin%22%3A%20%22round%22%2C%20%22opacity%22%3A%201.0%2C%20%22radius%22%3A%206348.599999999999%2C%20%22stroke%22%3A%20true%2C%20%22weight%22%3A%203%7D%0A%20%20%20%20%20%20%20%20%20%20%20%20%29.addTo%28map_eb35dd8b85da458dbd67899f3a134854%29%3B%0A%20%20%20%20%20%20%20%20%0A%20%20%20%20%0A%20%20%20%20%20%20%20%20var%20popup_235d0b5ae22b4c27a3595edc53733e0a%20%3D%20L.popup%28%7B%22maxWidth%22%3A%20%22100%25%22%7D%29%3B%0A%0A%20%20%20%20%20%20%20%20%0A%20%20%20%20%20%20%20%20%20%20%20%20var%20html_fc635c7a1c944cb6a57fc5c4637adc9f%20%3D%20%24%28%60%3Cdiv%20id%3D%22html_fc635c7a1c944cb6a57fc5c4637adc9f%22%20style%3D%22width%3A%20100.0%25%3B%20height%3A%20100.0%25%3B%22%3E19963%3C/div%3E%60%29%5B0%5D%3B%0A%20%20%20%20%20%20%20%20%20%20%20%20popup_235d0b5ae22b4c27a3595edc53733e0a.setContent%28html_fc635c7a1c944cb6a57fc5c4637adc9f%29%3B%0A%20%20%20%20%20%20%20%20%0A%0A%20%20%20%20%20%20%20%20circle_75e3890206f44c8f8792ff0376679e51.bindPopup%28popup_235d0b5ae22b4c27a3595edc53733e0a%29%0A%20%20%20%20%20%20%20%20%3B%0A%0A%20%20%20%20%20%20%20%20%0A%20%20%20%20%0A%20%20%20%20%0A%20%20%20%20%20%20%20%20%20%20%20%20var%20circle_9d78c322367c4742b120837fef9c7afb%20%3D%20L.circle%28%0A%20%20%20%20%20%20%20%20%20%20%20%20%20%20%20%20%5B38.601355%2C%20-75.2411%5D%2C%0A%20%20%20%20%20%20%20%20%20%20%20%20%20%20%20%20%7B%22bubblingMouseEvents%22%3A%20true%2C%20%22color%22%3A%20%22crimson%22%2C%20%22dashArray%22%3A%20null%2C%20%22dashOffset%22%3A%20null%2C%20%22fill%22%3A%20true%2C%20%22fillColor%22%3A%20%22crimson%22%2C%20%22fillOpacity%22%3A%200.2%2C%20%22fillRule%22%3A%20%22evenodd%22%2C%20%22lineCap%22%3A%20%22round%22%2C%20%22lineJoin%22%3A%20%22round%22%2C%20%22opacity%22%3A%201.0%2C%20%22radius%22%3A%205958.900000000001%2C%20%22stroke%22%3A%20true%2C%20%22weight%22%3A%203%7D%0A%20%20%20%20%20%20%20%20%20%20%20%20%29.addTo%28map_eb35dd8b85da458dbd67899f3a134854%29%3B%0A%20%20%20%20%20%20%20%20%0A%20%20%20%20%0A%20%20%20%20%20%20%20%20var%20popup_5ab698a929634bcf99f52a536c1fea31%20%3D%20L.popup%28%7B%22maxWidth%22%3A%20%22100%25%22%7D%29%3B%0A%0A%20%20%20%20%20%20%20%20%0A%20%20%20%20%20%20%20%20%20%20%20%20var%20html_f64dfbcc8881485aa0249b59c963ff69%20%3D%20%24%28%60%3Cdiv%20id%3D%22html_f64dfbcc8881485aa0249b59c963ff69%22%20style%3D%22width%3A%20100.0%25%3B%20height%3A%20100.0%25%3B%22%3E19966%3C/div%3E%60%29%5B0%5D%3B%0A%20%20%20%20%20%20%20%20%20%20%20%20popup_5ab698a929634bcf99f52a536c1fea31.setContent%28html_f64dfbcc8881485aa0249b59c963ff69%29%3B%0A%20%20%20%20%20%20%20%20%0A%0A%20%20%20%20%20%20%20%20circle_9d78c322367c4742b120837fef9c7afb.bindPopup%28popup_5ab698a929634bcf99f52a536c1fea31%29%0A%20%20%20%20%20%20%20%20%3B%0A%0A%20%20%20%20%20%20%20%20%0A%20%20%20%20%0A%20%20%20%20%0A%20%20%20%20%20%20%20%20%20%20%20%20var%20circle_a523876710ff4d0a90009562355e607f%20%3D%20L.circle%28%0A%20%20%20%20%20%20%20%20%20%20%20%20%20%20%20%20%5B38.772648%2C%20-75.28665%5D%2C%0A%20%20%20%20%20%20%20%20%20%20%20%20%20%20%20%20%7B%22bubblingMouseEvents%22%3A%20true%2C%20%22color%22%3A%20%22crimson%22%2C%20%22dashArray%22%3A%20null%2C%20%22dashOffset%22%3A%20null%2C%20%22fill%22%3A%20true%2C%20%22fillColor%22%3A%20%22crimson%22%2C%20%22fillOpacity%22%3A%200.2%2C%20%22fillRule%22%3A%20%22evenodd%22%2C%20%22lineCap%22%3A%20%22round%22%2C%20%22lineJoin%22%3A%20%22round%22%2C%20%22opacity%22%3A%201.0%2C%20%22radius%22%3A%204824.900000000001%2C%20%22stroke%22%3A%20true%2C%20%22weight%22%3A%203%7D%0A%20%20%20%20%20%20%20%20%20%20%20%20%29.addTo%28map_eb35dd8b85da458dbd67899f3a134854%29%3B%0A%20%20%20%20%20%20%20%20%0A%20%20%20%20%0A%20%20%20%20%20%20%20%20var%20popup_04b827cf473c4f2d87e4ae6629ee52fd%20%3D%20L.popup%28%7B%22maxWidth%22%3A%20%22100%25%22%7D%29%3B%0A%0A%20%20%20%20%20%20%20%20%0A%20%20%20%20%20%20%20%20%20%20%20%20var%20html_9d954a51150041d99e7871d05ec290d2%20%3D%20%24%28%60%3Cdiv%20id%3D%22html_9d954a51150041d99e7871d05ec290d2%22%20style%3D%22width%3A%20100.0%25%3B%20height%3A%20100.0%25%3B%22%3E19968%3C/div%3E%60%29%5B0%5D%3B%0A%20%20%20%20%20%20%20%20%20%20%20%20popup_04b827cf473c4f2d87e4ae6629ee52fd.setContent%28html_9d954a51150041d99e7871d05ec290d2%29%3B%0A%20%20%20%20%20%20%20%20%0A%0A%20%20%20%20%20%20%20%20circle_a523876710ff4d0a90009562355e607f.bindPopup%28popup_04b827cf473c4f2d87e4ae6629ee52fd%29%0A%20%20%20%20%20%20%20%20%3B%0A%0A%20%20%20%20%20%20%20%20%0A%20%20%20%20%0A%20%20%20%20%0A%20%20%20%20%20%20%20%20%20%20%20%20var%20circle_ca869c96e45e4107b274925561a85f42%20%3D%20L.circle%28%0A%20%20%20%20%20%20%20%20%20%20%20%20%20%20%20%20%5B38.55044%2C%20-75.09928%5D%2C%0A%20%20%20%20%20%20%20%20%20%20%20%20%20%20%20%20%7B%22bubblingMouseEvents%22%3A%20true%2C%20%22color%22%3A%20%22crimson%22%2C%20%22dashArray%22%3A%20null%2C%20%22dashOffset%22%3A%20null%2C%20%22fill%22%3A%20true%2C%20%22fillColor%22%3A%20%22crimson%22%2C%20%22fillOpacity%22%3A%200.2%2C%20%22fillRule%22%3A%20%22evenodd%22%2C%20%22lineCap%22%3A%20%22round%22%2C%20%22lineJoin%22%3A%20%22round%22%2C%20%22opacity%22%3A%201.0%2C%20%22radius%22%3A%204356.0%2C%20%22stroke%22%3A%20true%2C%20%22weight%22%3A%203%7D%0A%20%20%20%20%20%20%20%20%20%20%20%20%29.addTo%28map_eb35dd8b85da458dbd67899f3a134854%29%3B%0A%20%20%20%20%20%20%20%20%0A%20%20%20%20%0A%20%20%20%20%20%20%20%20var%20popup_89c6fd433ac04647bbda080c574e8834%20%3D%20L.popup%28%7B%22maxWidth%22%3A%20%22100%25%22%7D%29%3B%0A%0A%20%20%20%20%20%20%20%20%0A%20%20%20%20%20%20%20%20%20%20%20%20var%20html_2ea7d13325c94b69b55bfce8d1dd3233%20%3D%20%24%28%60%3Cdiv%20id%3D%22html_2ea7d13325c94b69b55bfce8d1dd3233%22%20style%3D%22width%3A%20100.0%25%3B%20height%3A%20100.0%25%3B%22%3E19970%3C/div%3E%60%29%5B0%5D%3B%0A%20%20%20%20%20%20%20%20%20%20%20%20popup_89c6fd433ac04647bbda080c574e8834.setContent%28html_2ea7d13325c94b69b55bfce8d1dd3233%29%3B%0A%20%20%20%20%20%20%20%20%0A%0A%20%20%20%20%20%20%20%20circle_ca869c96e45e4107b274925561a85f42.bindPopup%28popup_89c6fd433ac04647bbda080c574e8834%29%0A%20%20%20%20%20%20%20%20%3B%0A%0A%20%20%20%20%20%20%20%20%0A%20%20%20%20%0A%20%20%20%20%0A%20%20%20%20%20%20%20%20%20%20%20%20var%20circle_0a33bdcc21334c26a93653397f161b99%20%3D%20L.circle%28%0A%20%20%20%20%20%20%20%20%20%20%20%20%20%20%20%20%5B38.711512%2C%20-75.09677%5D%2C%0A%20%20%20%20%20%20%20%20%20%20%20%20%20%20%20%20%7B%22bubblingMouseEvents%22%3A%20true%2C%20%22color%22%3A%20%22crimson%22%2C%20%22dashArray%22%3A%20null%2C%20%22dashOffset%22%3A%20null%2C%20%22fill%22%3A%20true%2C%20%22fillColor%22%3A%20%22crimson%22%2C%20%22fillOpacity%22%3A%200.2%2C%20%22fillRule%22%3A%20%22evenodd%22%2C%20%22lineCap%22%3A%20%22round%22%2C%20%22lineJoin%22%3A%20%22round%22%2C%20%22opacity%22%3A%201.0%2C%20%22radius%22%3A%206047.099999999999%2C%20%22stroke%22%3A%20true%2C%20%22weight%22%3A%203%7D%0A%20%20%20%20%20%20%20%20%20%20%20%20%29.addTo%28map_eb35dd8b85da458dbd67899f3a134854%29%3B%0A%20%20%20%20%20%20%20%20%0A%20%20%20%20%0A%20%20%20%20%20%20%20%20var%20popup_e78c712299e84769abf35e173bdea2d9%20%3D%20L.popup%28%7B%22maxWidth%22%3A%20%22100%25%22%7D%29%3B%0A%0A%20%20%20%20%20%20%20%20%0A%20%20%20%20%20%20%20%20%20%20%20%20var%20html_20b048e1d0384c4789a9983ce29e866f%20%3D%20%24%28%60%3Cdiv%20id%3D%22html_20b048e1d0384c4789a9983ce29e866f%22%20style%3D%22width%3A%20100.0%25%3B%20height%3A%20100.0%25%3B%22%3E19971%3C/div%3E%60%29%5B0%5D%3B%0A%20%20%20%20%20%20%20%20%20%20%20%20popup_e78c712299e84769abf35e173bdea2d9.setContent%28html_20b048e1d0384c4789a9983ce29e866f%29%3B%0A%20%20%20%20%20%20%20%20%0A%0A%20%20%20%20%20%20%20%20circle_0a33bdcc21334c26a93653397f161b99.bindPopup%28popup_e78c712299e84769abf35e173bdea2d9%29%0A%20%20%20%20%20%20%20%20%3B%0A%0A%20%20%20%20%20%20%20%20%0A%20%20%20%20%0A%20%20%20%20%0A%20%20%20%20%20%20%20%20%20%20%20%20var%20circle_7f6d30f26367485ab629df3a5bc434fd%20%3D%20L.circle%28%0A%20%20%20%20%20%20%20%20%20%20%20%20%20%20%20%20%5B38.643248%2C%20-75.61102%5D%2C%0A%20%20%20%20%20%20%20%20%20%20%20%20%20%20%20%20%7B%22bubblingMouseEvents%22%3A%20true%2C%20%22color%22%3A%20%22crimson%22%2C%20%22dashArray%22%3A%20null%2C%20%22dashOffset%22%3A%20null%2C%20%22fill%22%3A%20true%2C%20%22fillColor%22%3A%20%22crimson%22%2C%20%22fillOpacity%22%3A%200.2%2C%20%22fillRule%22%3A%20%22evenodd%22%2C%20%22lineCap%22%3A%20%22round%22%2C%20%22lineJoin%22%3A%20%22round%22%2C%20%22opacity%22%3A%201.0%2C%20%22radius%22%3A%207032.599999999999%2C%20%22stroke%22%3A%20true%2C%20%22weight%22%3A%203%7D%0A%20%20%20%20%20%20%20%20%20%20%20%20%29.addTo%28map_eb35dd8b85da458dbd67899f3a134854%29%3B%0A%20%20%20%20%20%20%20%20%0A%20%20%20%20%0A%20%20%20%20%20%20%20%20var%20popup_8735c7f3f0da496484b39e102465b42a%20%3D%20L.popup%28%7B%22maxWidth%22%3A%20%22100%25%22%7D%29%3B%0A%0A%20%20%20%20%20%20%20%20%0A%20%20%20%20%20%20%20%20%20%20%20%20var%20html_d53bbe0bd92e4262b54064ef72d73f60%20%3D%20%24%28%60%3Cdiv%20id%3D%22html_d53bbe0bd92e4262b54064ef72d73f60%22%20style%3D%22width%3A%20100.0%25%3B%20height%3A%20100.0%25%3B%22%3E19973%3C/div%3E%60%29%5B0%5D%3B%0A%20%20%20%20%20%20%20%20%20%20%20%20popup_8735c7f3f0da496484b39e102465b42a.setContent%28html_d53bbe0bd92e4262b54064ef72d73f60%29%3B%0A%20%20%20%20%20%20%20%20%0A%0A%20%20%20%20%20%20%20%20circle_7f6d30f26367485ab629df3a5bc434fd.bindPopup%28popup_8735c7f3f0da496484b39e102465b42a%29%0A%20%20%20%20%20%20%20%20%3B%0A%0A%20%20%20%20%20%20%20%20%0A%20%20%20%20%0A%20%20%20%20%0A%20%20%20%20%20%20%20%20%20%20%20%20var%20circle_9096659958b84209b2a4f28ad2154f1a%20%3D%20L.circle%28%0A%20%20%20%20%20%20%20%20%20%20%20%20%20%20%20%20%5B38.463751%2C%20-75.15642%5D%2C%0A%20%20%20%20%20%20%20%20%20%20%20%20%20%20%20%20%7B%22bubblingMouseEvents%22%3A%20true%2C%20%22color%22%3A%20%22crimson%22%2C%20%22dashArray%22%3A%20null%2C%20%22dashOffset%22%3A%20null%2C%20%22fill%22%3A%20true%2C%20%22fillColor%22%3A%20%22crimson%22%2C%20%22fillOpacity%22%3A%200.2%2C%20%22fillRule%22%3A%20%22evenodd%22%2C%20%22lineCap%22%3A%20%22round%22%2C%20%22lineJoin%22%3A%20%22round%22%2C%20%22opacity%22%3A%201.0%2C%20%22radius%22%3A%205973.3%2C%20%22stroke%22%3A%20true%2C%20%22weight%22%3A%203%7D%0A%20%20%20%20%20%20%20%20%20%20%20%20%29.addTo%28map_eb35dd8b85da458dbd67899f3a134854%29%3B%0A%20%20%20%20%20%20%20%20%0A%20%20%20%20%0A%20%20%20%20%20%20%20%20var%20popup_e512767a8bf44e2b8f62b04c2b13cc2b%20%3D%20L.popup%28%7B%22maxWidth%22%3A%20%22100%25%22%7D%29%3B%0A%0A%20%20%20%20%20%20%20%20%0A%20%20%20%20%20%20%20%20%20%20%20%20var%20html_fa464d8d30be47118485f24e6f68c751%20%3D%20%24%28%60%3Cdiv%20id%3D%22html_fa464d8d30be47118485f24e6f68c751%22%20style%3D%22width%3A%20100.0%25%3B%20height%3A%20100.0%25%3B%22%3E19975%3C/div%3E%60%29%5B0%5D%3B%0A%20%20%20%20%20%20%20%20%20%20%20%20popup_e512767a8bf44e2b8f62b04c2b13cc2b.setContent%28html_fa464d8d30be47118485f24e6f68c751%29%3B%0A%20%20%20%20%20%20%20%20%0A%0A%20%20%20%20%20%20%20%20circle_9096659958b84209b2a4f28ad2154f1a.bindPopup%28popup_e512767a8bf44e2b8f62b04c2b13cc2b%29%0A%20%20%20%20%20%20%20%20%3B%0A%0A%20%20%20%20%20%20%20%20%0A%20%20%20%20%0A%20%20%20%20%0A%20%20%20%20%20%20%20%20%20%20%20%20var%20circle_b9b8adfc10f549ab814251df0f44cb01%20%3D%20L.circle%28%0A%20%20%20%20%20%20%20%20%20%20%20%20%20%20%20%20%5B39.29799%2C%20-75.59391%5D%2C%0A%20%20%20%20%20%20%20%20%20%20%20%20%20%20%20%20%7B%22bubblingMouseEvents%22%3A%20true%2C%20%22color%22%3A%20%22crimson%22%2C%20%22dashArray%22%3A%20null%2C%20%22dashOffset%22%3A%20null%2C%20%22fill%22%3A%20true%2C%20%22fillColor%22%3A%20%22crimson%22%2C%20%22fillOpacity%22%3A%200.2%2C%20%22fillRule%22%3A%20%22evenodd%22%2C%20%22lineCap%22%3A%20%22round%22%2C%20%22lineJoin%22%3A%20%22round%22%2C%20%22opacity%22%3A%201.0%2C%20%22radius%22%3A%206818.400000000001%2C%20%22stroke%22%3A%20true%2C%20%22weight%22%3A%203%7D%0A%20%20%20%20%20%20%20%20%20%20%20%20%29.addTo%28map_eb35dd8b85da458dbd67899f3a134854%29%3B%0A%20%20%20%20%20%20%20%20%0A%20%20%20%20%0A%20%20%20%20%20%20%20%20var%20popup_c989dbc8f4aa401f927b5addf80dfa11%20%3D%20L.popup%28%7B%22maxWidth%22%3A%20%22100%25%22%7D%29%3B%0A%0A%20%20%20%20%20%20%20%20%0A%20%20%20%20%20%20%20%20%20%20%20%20var%20html_7c909d1e436b46bdb5670aeddeb8dbc6%20%3D%20%24%28%60%3Cdiv%20id%3D%22html_7c909d1e436b46bdb5670aeddeb8dbc6%22%20style%3D%22width%3A%20100.0%25%3B%20height%3A%20100.0%25%3B%22%3E19977%3C/div%3E%60%29%5B0%5D%3B%0A%20%20%20%20%20%20%20%20%20%20%20%20popup_c989dbc8f4aa401f927b5addf80dfa11.setContent%28html_7c909d1e436b46bdb5670aeddeb8dbc6%29%3B%0A%20%20%20%20%20%20%20%20%0A%0A%20%20%20%20%20%20%20%20circle_b9b8adfc10f549ab814251df0f44cb01.bindPopup%28popup_c989dbc8f4aa401f927b5addf80dfa11%29%0A%20%20%20%20%20%20%20%20%3B%0A%0A%20%20%20%20%20%20%20%20%0A%20%20%20%20%0A%3C/script%3E onload=\"this.contentDocument.open();this.contentDocument.write(    decodeURIComponent(this.getAttribute('data-html')));this.contentDocument.close();\" allowfullscreen webkitallowfullscreen mozallowfullscreen></iframe></div></div>"
          },
          "metadata": {}
        }
      ],
      "execution_count": 41,
      "metadata": {
        "collapsed": true,
        "jupyter": {
          "source_hidden": false,
          "outputs_hidden": true
        },
        "nteract": {
          "transient": {
            "deleting": false
          }
        },
        "execution": {
          "iopub.status.busy": "2021-01-08T02:12:31.010Z",
          "iopub.execute_input": "2021-01-08T02:12:31.018Z",
          "iopub.status.idle": "2021-01-08T02:12:31.486Z",
          "shell.execute_reply": "2021-01-08T02:12:31.544Z"
        }
      }
    },
    {
      "cell_type": "code",
      "source": [
        "df.info()"
      ],
      "outputs": [
        {
          "output_type": "stream",
          "name": "stdout",
          "text": [
            "<class 'pandas.core.frame.DataFrame'>\n",
            "RangeIndex: 13556 entries, 0 to 13555\n",
            "Data columns (total 12 columns):\n",
            " #   Column              Non-Null Count  Dtype         \n",
            "---  ------              --------------  -----         \n",
            " 0   Zipcode             13556 non-null  int64         \n",
            " 1   County              13556 non-null  object        \n",
            " 2   Statistic           13556 non-null  object        \n",
            " 3   Value               13556 non-null  float64       \n",
            " 4   Date used           13556 non-null  object        \n",
            " 5   Unit                13556 non-null  object        \n",
            " 6   Age adjusted        13556 non-null  object        \n",
            " 7   Zipcode Population  13556 non-null  int64         \n",
            " 8   Date                13556 non-null  datetime64[ns]\n",
            " 9   Zipcode Date        13556 non-null  object        \n",
            " 10  Zipcode latitude    13556 non-null  float64       \n",
            " 11  Zipcode longitude   13556 non-null  float64       \n",
            "dtypes: datetime64[ns](1), float64(3), int64(2), object(6)\n",
            "memory usage: 1.2+ MB\n"
          ]
        }
      ],
      "execution_count": 55,
      "metadata": {
        "collapsed": true,
        "jupyter": {
          "source_hidden": false,
          "outputs_hidden": false
        },
        "nteract": {
          "transient": {
            "deleting": false
          }
        },
        "execution": {
          "iopub.status.busy": "2021-01-08T03:34:44.172Z",
          "iopub.execute_input": "2021-01-08T03:34:44.180Z",
          "iopub.status.idle": "2021-01-08T03:34:44.206Z",
          "shell.execute_reply": "2021-01-08T03:34:44.213Z"
        }
      }
    },
    {
      "cell_type": "code",
      "source": [
        "\n",
        "\n"
      ],
      "outputs": [],
      "execution_count": 51,
      "metadata": {
        "collapsed": true,
        "jupyter": {
          "source_hidden": false,
          "outputs_hidden": false
        },
        "nteract": {
          "transient": {
            "deleting": false
          }
        },
        "execution": {
          "iopub.status.busy": "2021-01-08T03:25:08.941Z",
          "iopub.execute_input": "2021-01-08T03:25:08.947Z",
          "iopub.status.idle": "2021-01-08T03:25:17.085Z",
          "shell.execute_reply": "2021-01-08T03:25:17.093Z"
        }
      }
    },
    {
      "cell_type": "code",
      "source": [
        "\n"
      ],
      "outputs": [
        {
          "output_type": "execute_result",
          "execution_count": 59,
          "data": {
            "text/plain": "<sqlalchemy.engine.result.ResultProxy at 0x1244d17f0>"
          },
          "metadata": {}
        }
      ],
      "execution_count": 59,
      "metadata": {
        "collapsed": true,
        "jupyter": {
          "source_hidden": false,
          "outputs_hidden": false
        },
        "nteract": {
          "transient": {
            "deleting": false
          }
        },
        "execution": {
          "iopub.status.busy": "2021-01-08T14:48:09.485Z",
          "iopub.execute_input": "2021-01-08T14:48:09.495Z",
          "iopub.status.idle": "2021-01-08T14:48:18.188Z",
          "shell.execute_reply": "2021-01-08T14:48:18.205Z"
        }
      }
    },
    {
      "cell_type": "code",
      "source": [],
      "outputs": [],
      "execution_count": null,
      "metadata": {
        "collapsed": true,
        "jupyter": {
          "source_hidden": false,
          "outputs_hidden": false
        },
        "nteract": {
          "transient": {
            "deleting": false
          }
        }
      }
    }
  ],
  "metadata": {
    "kernel_info": {
      "name": "python3"
    },
    "language_info": {
      "name": "python",
      "version": "3.8.3",
      "mimetype": "text/x-python",
      "codemirror_mode": {
        "name": "ipython",
        "version": 3
      },
      "pygments_lexer": "ipython3",
      "nbconvert_exporter": "python",
      "file_extension": ".py"
    },
    "kernelspec": {
      "argv": [
        "/Users/deana/opt/anaconda3/bin/python3",
        "-m",
        "ipykernel_launcher",
        "-f",
        "{connection_file}"
      ],
      "display_name": "Python 3",
      "language": "python",
      "name": "python3"
    },
    "nteract": {
      "version": "0.27.0"
    }
  },
  "nbformat": 4,
  "nbformat_minor": 0
}